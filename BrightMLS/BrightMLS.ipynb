{
 "cells": [
  {
   "cell_type": "code",
   "execution_count": 1,
   "id": "13c4f7b0",
   "metadata": {},
   "outputs": [],
   "source": [
    "from selenium.webdriver import Firefox\n",
    "from selenium.webdriver.common.by import By\n",
    "from selenium import webdriver\n",
    "from selenium.webdriver.support.ui import WebDriverWait\n",
    "from selenium.webdriver.support import expected_conditions as EC\n",
    "from selenium.common.exceptions import NoSuchElementException, ElementClickInterceptedException, ElementNotInteractableException, NoSuchWindowException\n",
    "from time import sleep\n",
    "from tqdm import tqdm"
   ]
  },
  {
   "cell_type": "code",
   "execution_count": 2,
   "id": "13ab3797",
   "metadata": {},
   "outputs": [],
   "source": [
    "driver = Firefox()\n",
    "driver.maximize_window()"
   ]
  },
  {
   "cell_type": "code",
   "execution_count": 6,
   "id": "4a5d0261",
   "metadata": {
    "scrolled": true
   },
   "outputs": [
    {
     "data": {
      "text/plain": [
       "<selenium.webdriver.remote.webelement.WebElement (session=\"cbdbe14f-50b7-414a-9732-55753d9b0454\", element=\"7a688664-35c0-4947-a507-31d589163a8c\")>"
      ]
     },
     "execution_count": 6,
     "metadata": {},
     "output_type": "execute_result"
    }
   ],
   "source": [
    "wait = WebDriverWait(driver, 10)\n",
    "driver.get('https://www.brightmlshomes.com/listing/listingsearch.aspx?clear=1')\n",
    "wait.until(EC.presence_of_element_located((By.CSS_SELECTOR, '#photo_gallery_342615762')))"
   ]
  },
  {
   "cell_type": "markdown",
   "id": "1a700ac8",
   "metadata": {},
   "source": [
    "## Scroll down"
   ]
  },
  {
   "cell_type": "code",
   "execution_count": 7,
   "id": "c98a7fb2",
   "metadata": {},
   "outputs": [],
   "source": [
    "def scroll():\n",
    "    while True:\n",
    "        driver.execute_script(\"window.scrollTo(0, document.body.scrollHeight);\")\n",
    "        inp = input('should I further scroll?')\n",
    "        if inp == 'n':\n",
    "            break"
   ]
  },
  {
   "cell_type": "markdown",
   "id": "e8f79cce",
   "metadata": {},
   "source": [
    "## Fetch Links"
   ]
  },
  {
   "cell_type": "code",
   "execution_count": 8,
   "id": "4ce0267d",
   "metadata": {},
   "outputs": [],
   "source": [
    "def fetch_links(anchors):\n",
    "    i = 1\n",
    "    while True:\n",
    "        try:\n",
    "            a = driver.find_element(By.CSS_SELECTOR, \n",
    "                                    f'#mapsearch-results-body > div:nth-child({i}) > div.singleprop-media > a')\n",
    "            anchors.append(a.get_attribute('href'))\n",
    "            i += 1\n",
    "        except Exception as e:\n",
    "            print('Exception Raised:', e)\n",
    "            inp = input('Should I break the loop? ')\n",
    "            if inp == 'y':\n",
    "                break"
   ]
  },
  {
   "cell_type": "markdown",
   "id": "30dec75b",
   "metadata": {},
   "source": [
    "## Loop over the Links"
   ]
  },
  {
   "cell_type": "code",
   "execution_count": 9,
   "id": "d65de404",
   "metadata": {},
   "outputs": [],
   "source": [
    "def scrape(img_links, anchors):\n",
    "    for link in anchors:\n",
    "        driver.get(link)\n",
    "        carousel = wait.until(EC.presence_of_element_located((By.ID, 'imageGallery')))\n",
    "        total = driver.find_element(By.CSS_SELECTOR, 'span#ltslide-total').text.split()\n",
    "        for ele in total:\n",
    "            if ele.isdigit():\n",
    "                global total_imgs\n",
    "                total_imgs = int(ele)\n",
    "        for i in range(total_imgs):\n",
    "            img = driver.find_element(By.CSS_SELECTOR, '#imageGallery > li:nth-child(2) > img')\n",
    "            img_links.append(img.get_attribute('src'))\n",
    "            next_button = driver.find_element(By.CSS_SELECTOR, '#gallery-photos-all > div > div > div > a.lSNext')\n",
    "            next_button.click()"
   ]
  },
  {
   "cell_type": "markdown",
   "id": "3c38cb4d",
   "metadata": {},
   "source": [
    "## Main Algo"
   ]
  },
  {
   "cell_type": "code",
   "execution_count": 10,
   "id": "411c3d57",
   "metadata": {
    "scrolled": true
   },
   "outputs": [
    {
     "name": "stdout",
     "output_type": "stream",
     "text": [
      "should I further scroll?y\n",
      "should I further scroll?y\n",
      "should I further scroll?y\n",
      "should I further scroll?y\n",
      "should I further scroll?y\n",
      "should I further scroll?y\n",
      "should I further scroll?y\n",
      "should I further scroll?y\n",
      "should I further scroll?y\n",
      "should I further scroll?y\n",
      "should I further scroll?y\n",
      "should I further scroll?y\n",
      "should I further scroll?y\n",
      "should I further scroll?y\n",
      "should I further scroll?y\n",
      "should I further scroll?y\n",
      "should I further scroll?y\n",
      "should I further scroll?y\n",
      "should I further scroll?y\n",
      "should I further scroll?y\n",
      "should I further scroll?y\n",
      "should I further scroll?y\n",
      "should I further scroll?y\n",
      "should I further scroll?y\n",
      "should I further scroll?y\n",
      "should I further scroll?\n",
      "should I further scroll?y\n",
      "should I further scroll?y\n",
      "should I further scroll?\n",
      "should I further scroll?\n",
      "should I further scroll?\n",
      "should I further scroll?\n",
      "should I further scroll?\n",
      "should I further scroll?\n",
      "should I further scroll?\n",
      "should I further scroll?\n",
      "should I further scroll?\n",
      "should I further scroll?\n",
      "should I further scroll?\n",
      "should I further scroll?\n",
      "should I further scroll?\n",
      "should I further scroll?\n",
      "should I further scroll?\n",
      "should I further scroll?\n",
      "should I further scroll?\n",
      "should I further scroll?\n",
      "should I further scroll?\n",
      "should I further scroll?\n",
      "should I further scroll?\n",
      "should I further scroll?n\n"
     ]
    }
   ],
   "source": [
    "scroll()"
   ]
  },
  {
   "cell_type": "code",
   "execution_count": 11,
   "id": "55410b3a",
   "metadata": {
    "scrolled": true
   },
   "outputs": [
    {
     "name": "stdout",
     "output_type": "stream",
     "text": [
      "Exception Raised: Message: Unable to locate element: #mapsearch-results-body > div:nth-child(625) > div.singleprop-media > a; For documentation on this error, please visit: https://www.selenium.dev/documentation/webdriver/troubleshooting/errors#no-such-element-exception\n",
      "Stacktrace:\n",
      "RemoteError@chrome://remote/content/shared/RemoteError.sys.mjs:8:8\n",
      "WebDriverError@chrome://remote/content/shared/webdriver/Errors.sys.mjs:187:5\n",
      "NoSuchElementError@chrome://remote/content/shared/webdriver/Errors.sys.mjs:505:5\n",
      "element.find/</<@chrome://remote/content/marionette/element.sys.mjs:135:16\n",
      "\n",
      "Should I break the loop? y\n"
     ]
    }
   ],
   "source": [
    "anchors = []\n",
    "fetch_links(anchors)"
   ]
  },
  {
   "cell_type": "code",
   "execution_count": 13,
   "id": "e761aad9",
   "metadata": {},
   "outputs": [],
   "source": [
    "with open('links1.txt', 'w') as file:\n",
    "    for link in anchors:\n",
    "        file.write(f'{link}\\n')"
   ]
  },
  {
   "cell_type": "markdown",
   "id": "4a15a5be",
   "metadata": {},
   "source": [
    "## Scrape"
   ]
  },
  {
   "cell_type": "code",
   "execution_count": null,
   "id": "079fed3d",
   "metadata": {},
   "outputs": [],
   "source": [
    "img_links = []\n",
    "scrape(img_links, anchors)"
   ]
  },
  {
   "cell_type": "markdown",
   "id": "56d1f265",
   "metadata": {},
   "source": [
    "## write into the file"
   ]
  },
  {
   "cell_type": "code",
   "execution_count": null,
   "id": "11b6d795",
   "metadata": {},
   "outputs": [],
   "source": [
    "with open('links.txt', 'w') as file:\n",
    "    for link in img_links:\n",
    "        file.write(f'{link}\\n')"
   ]
  }
 ],
 "metadata": {
  "kernelspec": {
   "display_name": "Python 3 (ipykernel)",
   "language": "python",
   "name": "python3"
  },
  "language_info": {
   "codemirror_mode": {
    "name": "ipython",
    "version": 3
   },
   "file_extension": ".py",
   "mimetype": "text/x-python",
   "name": "python",
   "nbconvert_exporter": "python",
   "pygments_lexer": "ipython3",
   "version": "3.10.6"
  }
 },
 "nbformat": 4,
 "nbformat_minor": 5
}
