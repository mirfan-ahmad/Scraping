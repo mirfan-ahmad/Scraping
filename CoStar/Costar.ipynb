{
 "cells": [
  {
   "cell_type": "code",
   "execution_count": 1,
   "id": "0fb6e891-6483-4762-bea3-3ecc9c717a13",
   "metadata": {},
   "outputs": [],
   "source": [
    "# import necessary modules\n",
    "from selenium.webdriver import Chrome\n",
    "from selenium.webdriver.chrome.service import Service\n",
    "from selenium.webdriver.chrome.options import Options\n",
    "from selenium.webdriver.common.by import By\n",
    "from selenium.webdriver.support.ui import WebDriverWait\n",
    "from selenium.webdriver.support import expected_conditions as EC\n",
    "from selenium.common.exceptions import NoSuchElementException, TimeoutException\n",
    "import pandas as pd\n",
    "from time import sleep\n",
    "from tqdm import tqdm"
   ]
  },
  {
   "cell_type": "code",
   "execution_count": 2,
   "id": "8a945f73-1c7d-404b-bdbb-6b4d7fb8d52d",
   "metadata": {},
   "outputs": [],
   "source": [
    "# Initialize the instance of chrome\n",
    "chrome_options = Options()\n",
    "chrome_options.add_argument('--headless')\n",
    "chrome_options.add_argument('--user-data-dir=/home/umair/Desktop/irfan/Scraping/')\n",
    "chrome_options.add_argument('--no-sandbox')\n",
    "chrome_options.add_argument('--disable-dev-shm-usage')\n",
    "Service = Service('/home/umair/Desktop/irfan/chromedriver_linux64/chromedriver')"
   ]
  },
  {
   "cell_type": "code",
   "execution_count": 3,
   "id": "21a06c92-a15a-433d-9419-fcae06d3d6e9",
   "metadata": {},
   "outputs": [],
   "source": [
    "# initialize the driver\n",
    "driver = Chrome(service=Service)\n",
    "driver.maximize_window()\n",
    "wait = WebDriverWait(driver, 10)"
   ]
  },
  {
   "cell_type": "code",
   "execution_count": 4,
   "id": "4ec301ad-f1b9-4595-bc79-50ed92c89dd3",
   "metadata": {},
   "outputs": [],
   "source": [
    "# load links dataset\n",
    "df = pd.read_csv('anchors.csv')\n",
    "links = df.iloc[:, -1].to_list()"
   ]
  },
  {
   "cell_type": "code",
   "execution_count": 5,
   "id": "fcbf1215-4d63-4108-8017-104c67528e5e",
   "metadata": {},
   "outputs": [],
   "source": [
    "# write data into text file\n",
    "def write_data(img_links):\n",
    "    with open('imgs_links1.txt', 'a') as f:\n",
    "        for img_link in img_links:\n",
    "            f.write(img_link + '\\n')"
   ]
  },
  {
   "cell_type": "code",
   "execution_count": 9,
   "id": "75535572-3513-4bea-83f0-83924fafd82a",
   "metadata": {},
   "outputs": [],
   "source": [
    "# scrape the links of images and write into the text file\n",
    "def scrape(element):\n",
    "    element.click()\n",
    "    sleep(2)\n",
    "    img_links = []\n",
    "    i = 1\n",
    "    maximum = 1\n",
    "    while True:\n",
    "        try:\n",
    "            cs = f'#top > section.master > div:nth-child(7) > div.csgp-modal-container.csgp-modal-dialog.container > div > section > section > div.carousel-theme-light.carousel.has-filmstrip.ng-scope > div > div > div.carousel-inner > div.slide.ng-isolate-scope.active:nth-child({i}) > figure > img'\n",
    "            img_link = driver.find_element(By.CSS_SELECTOR, cs).get_attribute('src')\n",
    "            \n",
    "            img_links.append(img_link)\n",
    "            \n",
    "            button = driver.find_element(By.CSS_SELECTOR, '#top > section.master > div:nth-child(7) > div.csgp-modal-container.csgp-modal-dialog.container > div > section > section > div.carousel-theme-light.carousel.has-filmstrip.ng-scope > div > div > button.carousel-control.ln-icon-rightnext-hollow')\n",
    "            button.click()\n",
    "            i += 1\n",
    "\n",
    "        except NoSuchElementException:\n",
    "            if i > 5 and img_link == img_links[0] or maximum == 5:\n",
    "                write_data(img_links)\n",
    "                break\n",
    "                \n",
    "            i += 1\n",
    "            button = driver.find_element(By.CSS_SELECTOR, '#top > section.master > div:nth-child(7) > div.csgp-modal-container.csgp-modal-dialog.container > div > section > section > div.carousel-theme-light.carousel.has-filmstrip.ng-scope > div > div > button.carousel-control.ln-icon-rightnext-hollow')\n",
    "            button.click()\n",
    "            maximum += 1\n",
    "            pass"
   ]
  },
  {
   "cell_type": "code",
   "execution_count": 10,
   "id": "6e628ff2-7830-4a08-87ba-cb97718ce1e8",
   "metadata": {},
   "outputs": [],
   "source": [
    "# loop over the load dataset\n",
    "def loop_over():\n",
    "    for link in tqdm(links):\n",
    "        driver.get(link)\n",
    "        element = wait.until(EC.presence_of_element_located((By.CSS_SELECTOR, '#mosaic-profile > div.mosaic-carousel > div.mosaic-tile.photo-maintain-ratio')))\n",
    "        scrape(element)"
   ]
  },
  {
   "cell_type": "code",
   "execution_count": 11,
   "id": "d11964fe-03a1-468b-a5e8-cf038d7f03b3",
   "metadata": {
    "scrolled": true
   },
   "outputs": [
    {
     "name": "stderr",
     "output_type": "stream",
     "text": [
      "  0%|                                                   | 0/528 [00:00<?, ?it/s]"
     ]
    },
    {
     "name": "stdout",
     "output_type": "stream",
     "text": [
      "https://images1.loopnet.com/i2/0Qfd_x48YSwBfdtJ6fSJRI2xfXjNxk6qhonPwO4_DBU/116/825-Third-Ave-New-York-NY-825-Third-Hero-1-LargeHighDefinition.jpg\n",
      "https://images1.loopnet.com/i2/nTAOtj8pdnV0hknuLuRpgTBRNF1TEvvrqQvljqiToN4/116/825-Third-Ave-New-York-NY-825-Third-Top-of-House-Skyline-2-LargeHighDefinition.jpg\n",
      "https://images1.loopnet.com/i2/mPhgYv8ntcbzqBoKjFlzZU-Fe2tyHQ-jQhK4pN_jVrQ/116/825-Third-Ave-New-York-NY-825-Third-Entry-3-LargeHighDefinition.jpg\n",
      "https://images1.loopnet.com/i2/6dEenUDBgei1ctpUMpztHuCMjinkLSagSdIAoDc2FhU/116/825-Third-Ave-New-York-NY-825-Third-Lobby-4-LargeHighDefinition.jpg\n",
      "https://images1.loopnet.com/i2/aGGiwTvk22rVxWzc2aYFOaF8kgHIUQ-x4FMf2T94knc/116/825-Third-Ave-New-York-NY-825-Third-View-Glass-Tinting-5-LargeHighDefinition.jpg\n",
      "https://images1.loopnet.com/i2/W-ixbXWwcCNW3fgqMBWuKoUjP0-9UlJt0rjJauLnQyA/116/825-Third-Ave-New-York-NY-825-Third-Prebuilts-Reception-6-LargeHighDefinition.jpg\n",
      "https://images1.loopnet.com/i2/4c_y7sVSiVYhEfQe6mvow5xK45kjC-JUG2-9DrtwZ4c/116/825-Third-Ave-New-York-NY-825-Third-Prebuilts-Conference-Room-7-LargeHighDefinition.jpg\n",
      "https://images1.loopnet.com/i2/uIxSSE69naATux93KbYj_iYZwhbLDqzbvxSlyd85HT4/116/825-Third-Ave-New-York-NY-825-Third-Well-Terrace-8-LargeHighDefinition.jpg\n",
      "https://images1.loopnet.com/i2/1_1pAlmowL-VkM4eT7kTSlEJnUsxo3HApEiheUKBP9Y/116/825-Third-Ave-New-York-NY-825-Third-Well-Coffee-and-Wine-Bar-9-LargeHighDefinition.jpg\n",
      "https://images1.loopnet.com/i2/MPdEGiY66p3RCm1pLvYCHBTQ7G6Ek-6orzvkk5DoOTw/116/825-Third-Ave-New-York-NY-825-Third-Well-Lounge-10-LargeHighDefinition.jpg\n",
      "['https://images1.loopnet.com/i2/0Qfd_x48YSwBfdtJ6fSJRI2xfXjNxk6qhonPwO4_DBU/116/825-Third-Ave-New-York-NY-825-Third-Hero-1-LargeHighDefinition.jpg', 'https://images1.loopnet.com/i2/nTAOtj8pdnV0hknuLuRpgTBRNF1TEvvrqQvljqiToN4/116/825-Third-Ave-New-York-NY-825-Third-Top-of-House-Skyline-2-LargeHighDefinition.jpg', 'https://images1.loopnet.com/i2/mPhgYv8ntcbzqBoKjFlzZU-Fe2tyHQ-jQhK4pN_jVrQ/116/825-Third-Ave-New-York-NY-825-Third-Entry-3-LargeHighDefinition.jpg', 'https://images1.loopnet.com/i2/6dEenUDBgei1ctpUMpztHuCMjinkLSagSdIAoDc2FhU/116/825-Third-Ave-New-York-NY-825-Third-Lobby-4-LargeHighDefinition.jpg', 'https://images1.loopnet.com/i2/aGGiwTvk22rVxWzc2aYFOaF8kgHIUQ-x4FMf2T94knc/116/825-Third-Ave-New-York-NY-825-Third-View-Glass-Tinting-5-LargeHighDefinition.jpg', 'https://images1.loopnet.com/i2/W-ixbXWwcCNW3fgqMBWuKoUjP0-9UlJt0rjJauLnQyA/116/825-Third-Ave-New-York-NY-825-Third-Prebuilts-Reception-6-LargeHighDefinition.jpg', 'https://images1.loopnet.com/i2/4c_y7sVSiVYhEfQe6mvow5xK45kjC-JUG2-9DrtwZ4c/116/825-Third-Ave-New-York-NY-825-Third-Prebuilts-Conference-Room-7-LargeHighDefinition.jpg', 'https://images1.loopnet.com/i2/uIxSSE69naATux93KbYj_iYZwhbLDqzbvxSlyd85HT4/116/825-Third-Ave-New-York-NY-825-Third-Well-Terrace-8-LargeHighDefinition.jpg', 'https://images1.loopnet.com/i2/1_1pAlmowL-VkM4eT7kTSlEJnUsxo3HApEiheUKBP9Y/116/825-Third-Ave-New-York-NY-825-Third-Well-Coffee-and-Wine-Bar-9-LargeHighDefinition.jpg', 'https://images1.loopnet.com/i2/MPdEGiY66p3RCm1pLvYCHBTQ7G6Ek-6orzvkk5DoOTw/116/825-Third-Ave-New-York-NY-825-Third-Well-Lounge-10-LargeHighDefinition.jpg']\n",
      "['https://images1.loopnet.com/i2/0Qfd_x48YSwBfdtJ6fSJRI2xfXjNxk6qhonPwO4_DBU/116/825-Third-Ave-New-York-NY-825-Third-Hero-1-LargeHighDefinition.jpg', 'https://images1.loopnet.com/i2/nTAOtj8pdnV0hknuLuRpgTBRNF1TEvvrqQvljqiToN4/116/825-Third-Ave-New-York-NY-825-Third-Top-of-House-Skyline-2-LargeHighDefinition.jpg', 'https://images1.loopnet.com/i2/mPhgYv8ntcbzqBoKjFlzZU-Fe2tyHQ-jQhK4pN_jVrQ/116/825-Third-Ave-New-York-NY-825-Third-Entry-3-LargeHighDefinition.jpg', 'https://images1.loopnet.com/i2/6dEenUDBgei1ctpUMpztHuCMjinkLSagSdIAoDc2FhU/116/825-Third-Ave-New-York-NY-825-Third-Lobby-4-LargeHighDefinition.jpg', 'https://images1.loopnet.com/i2/aGGiwTvk22rVxWzc2aYFOaF8kgHIUQ-x4FMf2T94knc/116/825-Third-Ave-New-York-NY-825-Third-View-Glass-Tinting-5-LargeHighDefinition.jpg', 'https://images1.loopnet.com/i2/W-ixbXWwcCNW3fgqMBWuKoUjP0-9UlJt0rjJauLnQyA/116/825-Third-Ave-New-York-NY-825-Third-Prebuilts-Reception-6-LargeHighDefinition.jpg', 'https://images1.loopnet.com/i2/4c_y7sVSiVYhEfQe6mvow5xK45kjC-JUG2-9DrtwZ4c/116/825-Third-Ave-New-York-NY-825-Third-Prebuilts-Conference-Room-7-LargeHighDefinition.jpg', 'https://images1.loopnet.com/i2/uIxSSE69naATux93KbYj_iYZwhbLDqzbvxSlyd85HT4/116/825-Third-Ave-New-York-NY-825-Third-Well-Terrace-8-LargeHighDefinition.jpg', 'https://images1.loopnet.com/i2/1_1pAlmowL-VkM4eT7kTSlEJnUsxo3HApEiheUKBP9Y/116/825-Third-Ave-New-York-NY-825-Third-Well-Coffee-and-Wine-Bar-9-LargeHighDefinition.jpg', 'https://images1.loopnet.com/i2/MPdEGiY66p3RCm1pLvYCHBTQ7G6Ek-6orzvkk5DoOTw/116/825-Third-Ave-New-York-NY-825-Third-Well-Lounge-10-LargeHighDefinition.jpg']\n",
      "['https://images1.loopnet.com/i2/0Qfd_x48YSwBfdtJ6fSJRI2xfXjNxk6qhonPwO4_DBU/116/825-Third-Ave-New-York-NY-825-Third-Hero-1-LargeHighDefinition.jpg', 'https://images1.loopnet.com/i2/nTAOtj8pdnV0hknuLuRpgTBRNF1TEvvrqQvljqiToN4/116/825-Third-Ave-New-York-NY-825-Third-Top-of-House-Skyline-2-LargeHighDefinition.jpg', 'https://images1.loopnet.com/i2/mPhgYv8ntcbzqBoKjFlzZU-Fe2tyHQ-jQhK4pN_jVrQ/116/825-Third-Ave-New-York-NY-825-Third-Entry-3-LargeHighDefinition.jpg', 'https://images1.loopnet.com/i2/6dEenUDBgei1ctpUMpztHuCMjinkLSagSdIAoDc2FhU/116/825-Third-Ave-New-York-NY-825-Third-Lobby-4-LargeHighDefinition.jpg', 'https://images1.loopnet.com/i2/aGGiwTvk22rVxWzc2aYFOaF8kgHIUQ-x4FMf2T94knc/116/825-Third-Ave-New-York-NY-825-Third-View-Glass-Tinting-5-LargeHighDefinition.jpg', 'https://images1.loopnet.com/i2/W-ixbXWwcCNW3fgqMBWuKoUjP0-9UlJt0rjJauLnQyA/116/825-Third-Ave-New-York-NY-825-Third-Prebuilts-Reception-6-LargeHighDefinition.jpg', 'https://images1.loopnet.com/i2/4c_y7sVSiVYhEfQe6mvow5xK45kjC-JUG2-9DrtwZ4c/116/825-Third-Ave-New-York-NY-825-Third-Prebuilts-Conference-Room-7-LargeHighDefinition.jpg', 'https://images1.loopnet.com/i2/uIxSSE69naATux93KbYj_iYZwhbLDqzbvxSlyd85HT4/116/825-Third-Ave-New-York-NY-825-Third-Well-Terrace-8-LargeHighDefinition.jpg', 'https://images1.loopnet.com/i2/1_1pAlmowL-VkM4eT7kTSlEJnUsxo3HApEiheUKBP9Y/116/825-Third-Ave-New-York-NY-825-Third-Well-Coffee-and-Wine-Bar-9-LargeHighDefinition.jpg', 'https://images1.loopnet.com/i2/MPdEGiY66p3RCm1pLvYCHBTQ7G6Ek-6orzvkk5DoOTw/116/825-Third-Ave-New-York-NY-825-Third-Well-Lounge-10-LargeHighDefinition.jpg']\n",
      "['https://images1.loopnet.com/i2/0Qfd_x48YSwBfdtJ6fSJRI2xfXjNxk6qhonPwO4_DBU/116/825-Third-Ave-New-York-NY-825-Third-Hero-1-LargeHighDefinition.jpg', 'https://images1.loopnet.com/i2/nTAOtj8pdnV0hknuLuRpgTBRNF1TEvvrqQvljqiToN4/116/825-Third-Ave-New-York-NY-825-Third-Top-of-House-Skyline-2-LargeHighDefinition.jpg', 'https://images1.loopnet.com/i2/mPhgYv8ntcbzqBoKjFlzZU-Fe2tyHQ-jQhK4pN_jVrQ/116/825-Third-Ave-New-York-NY-825-Third-Entry-3-LargeHighDefinition.jpg', 'https://images1.loopnet.com/i2/6dEenUDBgei1ctpUMpztHuCMjinkLSagSdIAoDc2FhU/116/825-Third-Ave-New-York-NY-825-Third-Lobby-4-LargeHighDefinition.jpg', 'https://images1.loopnet.com/i2/aGGiwTvk22rVxWzc2aYFOaF8kgHIUQ-x4FMf2T94knc/116/825-Third-Ave-New-York-NY-825-Third-View-Glass-Tinting-5-LargeHighDefinition.jpg', 'https://images1.loopnet.com/i2/W-ixbXWwcCNW3fgqMBWuKoUjP0-9UlJt0rjJauLnQyA/116/825-Third-Ave-New-York-NY-825-Third-Prebuilts-Reception-6-LargeHighDefinition.jpg', 'https://images1.loopnet.com/i2/4c_y7sVSiVYhEfQe6mvow5xK45kjC-JUG2-9DrtwZ4c/116/825-Third-Ave-New-York-NY-825-Third-Prebuilts-Conference-Room-7-LargeHighDefinition.jpg', 'https://images1.loopnet.com/i2/uIxSSE69naATux93KbYj_iYZwhbLDqzbvxSlyd85HT4/116/825-Third-Ave-New-York-NY-825-Third-Well-Terrace-8-LargeHighDefinition.jpg', 'https://images1.loopnet.com/i2/1_1pAlmowL-VkM4eT7kTSlEJnUsxo3HApEiheUKBP9Y/116/825-Third-Ave-New-York-NY-825-Third-Well-Coffee-and-Wine-Bar-9-LargeHighDefinition.jpg', 'https://images1.loopnet.com/i2/MPdEGiY66p3RCm1pLvYCHBTQ7G6Ek-6orzvkk5DoOTw/116/825-Third-Ave-New-York-NY-825-Third-Well-Lounge-10-LargeHighDefinition.jpg']\n"
     ]
    },
    {
     "name": "stderr",
     "output_type": "stream",
     "text": [
      "  0%|                                         | 1/528 [00:08<1:15:39,  8.61s/it]"
     ]
    },
    {
     "name": "stdout",
     "output_type": "stream",
     "text": [
      "https://images1.loopnet.com/i2/2bCnNxzBuAqwn-Ey_0nvWg8DZEJRDQx94-D7LqsVm6c/116/667-Madison-Ave-New-York-NY-Iconic-Office-Tower-1-LargeHighDefinition.jpg\n",
      "['https://images1.loopnet.com/i2/2bCnNxzBuAqwn-Ey_0nvWg8DZEJRDQx94-D7LqsVm6c/116/667-Madison-Ave-New-York-NY-Iconic-Office-Tower-1-LargeHighDefinition.jpg']\n",
      "https://images1.loopnet.com/i2/4ol2KChFqJVSiEfOjFyJfjZJgGOtGdvPJqhDSn8QGdI/116/667-Madison-Ave-New-York-NY-Ten-Foot-Tall-Bronze-Statue-of-Liberty-to-Greet-Visitors-2-LargeHighDefinition.jpg\n",
      "https://images1.loopnet.com/i2/hVAIiBNHAlC7wDfISJJ4UvqWTWuS_l3y-8I--fFQx28/116/667-Madison-Ave-New-York-NY-Ornate-Lobby-3-LargeHighDefinition.jpg\n",
      "https://images1.loopnet.com/i2/7qd7ff5mt8bwh3sDC1Ms5r1uBNfRPW73d_3nFvcqxLA/116/667-Madison-Ave-New-York-NY-Lobby-Elevators-4-LargeHighDefinition.jpg\n",
      "https://images1.loopnet.com/i2/022c5XTISdSMNgo9WRxvkQSY6e17R6tpJ8Ar75N4VAc/116/667-Madison-Ave-New-York-NY-Golf-Simulator-5-LargeHighDefinition.jpg\n",
      "https://images1.loopnet.com/i2/jzpqllDHM7-C-MLNaiik2CT3qqzLH43zcB9tuz9ghug/116/667-Madison-Ave-New-York-NY-Fitness-Center-6-LargeHighDefinition.jpg\n",
      "https://images1.loopnet.com/i2/sHPbl3vclf6xT4tx_VhI49OYzxdwUK_fXNPzNHI8NxA/116/667-Madison-Ave-New-York-NY-Cardio-Room-7-LargeHighDefinition.jpg\n",
      "https://images1.loopnet.com/i2/5m57WHGNTQW3zUhKUhTjPWUyVb5lMd2dqbiTC6LqNcU/116/667-Madison-Ave-New-York-NY-Panoramic-Rooftop-Views-8-LargeHighDefinition.jpg\n",
      "https://images1.loopnet.com/i2/0Xm3wOi9K7m95M1a2pUEL7DZkvyGgPrZS6hVCnDgu4Y/116/667-Madison-Ave-New-York-NY-Views-of-Central-Park-9-LargeHighDefinition.jpg\n",
      "https://images1.loopnet.com/i2/2FnyfDKYBv3eoVCa8X3YZeOmXmMXcMXrmmfUHkv5Qt8/116/667-Madison-Ave-New-York-NY-Overlooking-Midtown-Manhattan-10-LargeHighDefinition.jpg\n",
      "https://images1.loopnet.com/i2/oVWx9cWOeAC-roW0nW1bwZqEzpZwNRIA2SJQBnNe4PQ/116/667-Madison-Ave-New-York-NY-Surrounded-by-Iconic-New-York-City-Towers-11-LargeHighDefinition.jpg\n",
      "https://images1.loopnet.com/i2/d0y3JgZcBgUBn0GFpaEtooVbiKhiif8_zHMaefigeb4/116/667-Madison-Ave-New-York-NY-Building-Photo-12-LargeHighDefinition.jpg\n",
      "['https://images1.loopnet.com/i2/2bCnNxzBuAqwn-Ey_0nvWg8DZEJRDQx94-D7LqsVm6c/116/667-Madison-Ave-New-York-NY-Iconic-Office-Tower-1-LargeHighDefinition.jpg', 'https://images1.loopnet.com/i2/4ol2KChFqJVSiEfOjFyJfjZJgGOtGdvPJqhDSn8QGdI/116/667-Madison-Ave-New-York-NY-Ten-Foot-Tall-Bronze-Statue-of-Liberty-to-Greet-Visitors-2-LargeHighDefinition.jpg', 'https://images1.loopnet.com/i2/hVAIiBNHAlC7wDfISJJ4UvqWTWuS_l3y-8I--fFQx28/116/667-Madison-Ave-New-York-NY-Ornate-Lobby-3-LargeHighDefinition.jpg', 'https://images1.loopnet.com/i2/7qd7ff5mt8bwh3sDC1Ms5r1uBNfRPW73d_3nFvcqxLA/116/667-Madison-Ave-New-York-NY-Lobby-Elevators-4-LargeHighDefinition.jpg', 'https://images1.loopnet.com/i2/022c5XTISdSMNgo9WRxvkQSY6e17R6tpJ8Ar75N4VAc/116/667-Madison-Ave-New-York-NY-Golf-Simulator-5-LargeHighDefinition.jpg', 'https://images1.loopnet.com/i2/jzpqllDHM7-C-MLNaiik2CT3qqzLH43zcB9tuz9ghug/116/667-Madison-Ave-New-York-NY-Fitness-Center-6-LargeHighDefinition.jpg', 'https://images1.loopnet.com/i2/sHPbl3vclf6xT4tx_VhI49OYzxdwUK_fXNPzNHI8NxA/116/667-Madison-Ave-New-York-NY-Cardio-Room-7-LargeHighDefinition.jpg', 'https://images1.loopnet.com/i2/5m57WHGNTQW3zUhKUhTjPWUyVb5lMd2dqbiTC6LqNcU/116/667-Madison-Ave-New-York-NY-Panoramic-Rooftop-Views-8-LargeHighDefinition.jpg', 'https://images1.loopnet.com/i2/0Xm3wOi9K7m95M1a2pUEL7DZkvyGgPrZS6hVCnDgu4Y/116/667-Madison-Ave-New-York-NY-Views-of-Central-Park-9-LargeHighDefinition.jpg', 'https://images1.loopnet.com/i2/2FnyfDKYBv3eoVCa8X3YZeOmXmMXcMXrmmfUHkv5Qt8/116/667-Madison-Ave-New-York-NY-Overlooking-Midtown-Manhattan-10-LargeHighDefinition.jpg', 'https://images1.loopnet.com/i2/oVWx9cWOeAC-roW0nW1bwZqEzpZwNRIA2SJQBnNe4PQ/116/667-Madison-Ave-New-York-NY-Surrounded-by-Iconic-New-York-City-Towers-11-LargeHighDefinition.jpg', 'https://images1.loopnet.com/i2/d0y3JgZcBgUBn0GFpaEtooVbiKhiif8_zHMaefigeb4/116/667-Madison-Ave-New-York-NY-Building-Photo-12-LargeHighDefinition.jpg']\n",
      "['https://images1.loopnet.com/i2/2bCnNxzBuAqwn-Ey_0nvWg8DZEJRDQx94-D7LqsVm6c/116/667-Madison-Ave-New-York-NY-Iconic-Office-Tower-1-LargeHighDefinition.jpg', 'https://images1.loopnet.com/i2/4ol2KChFqJVSiEfOjFyJfjZJgGOtGdvPJqhDSn8QGdI/116/667-Madison-Ave-New-York-NY-Ten-Foot-Tall-Bronze-Statue-of-Liberty-to-Greet-Visitors-2-LargeHighDefinition.jpg', 'https://images1.loopnet.com/i2/hVAIiBNHAlC7wDfISJJ4UvqWTWuS_l3y-8I--fFQx28/116/667-Madison-Ave-New-York-NY-Ornate-Lobby-3-LargeHighDefinition.jpg', 'https://images1.loopnet.com/i2/7qd7ff5mt8bwh3sDC1Ms5r1uBNfRPW73d_3nFvcqxLA/116/667-Madison-Ave-New-York-NY-Lobby-Elevators-4-LargeHighDefinition.jpg', 'https://images1.loopnet.com/i2/022c5XTISdSMNgo9WRxvkQSY6e17R6tpJ8Ar75N4VAc/116/667-Madison-Ave-New-York-NY-Golf-Simulator-5-LargeHighDefinition.jpg', 'https://images1.loopnet.com/i2/jzpqllDHM7-C-MLNaiik2CT3qqzLH43zcB9tuz9ghug/116/667-Madison-Ave-New-York-NY-Fitness-Center-6-LargeHighDefinition.jpg', 'https://images1.loopnet.com/i2/sHPbl3vclf6xT4tx_VhI49OYzxdwUK_fXNPzNHI8NxA/116/667-Madison-Ave-New-York-NY-Cardio-Room-7-LargeHighDefinition.jpg', 'https://images1.loopnet.com/i2/5m57WHGNTQW3zUhKUhTjPWUyVb5lMd2dqbiTC6LqNcU/116/667-Madison-Ave-New-York-NY-Panoramic-Rooftop-Views-8-LargeHighDefinition.jpg', 'https://images1.loopnet.com/i2/0Xm3wOi9K7m95M1a2pUEL7DZkvyGgPrZS6hVCnDgu4Y/116/667-Madison-Ave-New-York-NY-Views-of-Central-Park-9-LargeHighDefinition.jpg', 'https://images1.loopnet.com/i2/2FnyfDKYBv3eoVCa8X3YZeOmXmMXcMXrmmfUHkv5Qt8/116/667-Madison-Ave-New-York-NY-Overlooking-Midtown-Manhattan-10-LargeHighDefinition.jpg', 'https://images1.loopnet.com/i2/oVWx9cWOeAC-roW0nW1bwZqEzpZwNRIA2SJQBnNe4PQ/116/667-Madison-Ave-New-York-NY-Surrounded-by-Iconic-New-York-City-Towers-11-LargeHighDefinition.jpg', 'https://images1.loopnet.com/i2/d0y3JgZcBgUBn0GFpaEtooVbiKhiif8_zHMaefigeb4/116/667-Madison-Ave-New-York-NY-Building-Photo-12-LargeHighDefinition.jpg']\n"
     ]
    },
    {
     "name": "stderr",
     "output_type": "stream",
     "text": [
      "  0%|▏                                        | 2/528 [00:17<1:18:52,  9.00s/it]"
     ]
    },
    {
     "name": "stdout",
     "output_type": "stream",
     "text": [
      "['https://images1.loopnet.com/i2/2bCnNxzBuAqwn-Ey_0nvWg8DZEJRDQx94-D7LqsVm6c/116/667-Madison-Ave-New-York-NY-Iconic-Office-Tower-1-LargeHighDefinition.jpg', 'https://images1.loopnet.com/i2/4ol2KChFqJVSiEfOjFyJfjZJgGOtGdvPJqhDSn8QGdI/116/667-Madison-Ave-New-York-NY-Ten-Foot-Tall-Bronze-Statue-of-Liberty-to-Greet-Visitors-2-LargeHighDefinition.jpg', 'https://images1.loopnet.com/i2/hVAIiBNHAlC7wDfISJJ4UvqWTWuS_l3y-8I--fFQx28/116/667-Madison-Ave-New-York-NY-Ornate-Lobby-3-LargeHighDefinition.jpg', 'https://images1.loopnet.com/i2/7qd7ff5mt8bwh3sDC1Ms5r1uBNfRPW73d_3nFvcqxLA/116/667-Madison-Ave-New-York-NY-Lobby-Elevators-4-LargeHighDefinition.jpg', 'https://images1.loopnet.com/i2/022c5XTISdSMNgo9WRxvkQSY6e17R6tpJ8Ar75N4VAc/116/667-Madison-Ave-New-York-NY-Golf-Simulator-5-LargeHighDefinition.jpg', 'https://images1.loopnet.com/i2/jzpqllDHM7-C-MLNaiik2CT3qqzLH43zcB9tuz9ghug/116/667-Madison-Ave-New-York-NY-Fitness-Center-6-LargeHighDefinition.jpg', 'https://images1.loopnet.com/i2/sHPbl3vclf6xT4tx_VhI49OYzxdwUK_fXNPzNHI8NxA/116/667-Madison-Ave-New-York-NY-Cardio-Room-7-LargeHighDefinition.jpg', 'https://images1.loopnet.com/i2/5m57WHGNTQW3zUhKUhTjPWUyVb5lMd2dqbiTC6LqNcU/116/667-Madison-Ave-New-York-NY-Panoramic-Rooftop-Views-8-LargeHighDefinition.jpg', 'https://images1.loopnet.com/i2/0Xm3wOi9K7m95M1a2pUEL7DZkvyGgPrZS6hVCnDgu4Y/116/667-Madison-Ave-New-York-NY-Views-of-Central-Park-9-LargeHighDefinition.jpg', 'https://images1.loopnet.com/i2/2FnyfDKYBv3eoVCa8X3YZeOmXmMXcMXrmmfUHkv5Qt8/116/667-Madison-Ave-New-York-NY-Overlooking-Midtown-Manhattan-10-LargeHighDefinition.jpg', 'https://images1.loopnet.com/i2/oVWx9cWOeAC-roW0nW1bwZqEzpZwNRIA2SJQBnNe4PQ/116/667-Madison-Ave-New-York-NY-Surrounded-by-Iconic-New-York-City-Towers-11-LargeHighDefinition.jpg', 'https://images1.loopnet.com/i2/d0y3JgZcBgUBn0GFpaEtooVbiKhiif8_zHMaefigeb4/116/667-Madison-Ave-New-York-NY-Building-Photo-12-LargeHighDefinition.jpg']\n",
      "https://images1.loopnet.com/i2/zu2pa5MRk55Oa1OEkqkq9kY69DNE2lgNv3y3WLUHPZY/116/277-Park-Ave-New-York-NY-277-Park-Avenue-1-LargeHighDefinition.jpg\n",
      "['https://images1.loopnet.com/i2/zu2pa5MRk55Oa1OEkqkq9kY69DNE2lgNv3y3WLUHPZY/116/277-Park-Ave-New-York-NY-277-Park-Avenue-1-LargeHighDefinition.jpg']\n",
      "https://images1.loopnet.com/i2/BFlclAB7xCgYtzksnnqjBWAJdCTN7GqHROwZUTP1Mwc/116/277-Park-Ave-New-York-NY-Lobby-Virtual-Tour-2-LargeHighDefinition.jpg\n",
      "https://images1.loopnet.com/i2/gmKE9HtUILO_uAB8D-pKkhxgVlJ3Ukq3Ekr-0pm5c8g/116/277-Park-Ave-New-York-NY-Elevator-Banks-Security-Gates-Virtual-Tour-3-LargeHighDefinition.jpg\n",
      "https://images1.loopnet.com/i2/RqiEveHxTO22FpS1cl4XSZ0eELDDIs0l7ruJ9fJYs1M/116/277-Park-Ave-New-York-NY-Iconic-Park-Avenue-Address-4-LargeHighDefinition.jpg\n",
      "https://images1.loopnet.com/i2/5VYDg4OtwgwAh0aFnLbYQ8TYpnaeWDSIM28_rnpYJCI/116/277-Park-Ave-New-York-NY-Building-Entrance-5-LargeHighDefinition.jpg\n",
      "https://images1.loopnet.com/i2/2RnqyVdCGti9JLRdQmnYjyNojz9_gFWdjUaRlha6bb4/116/277-Park-Ave-New-York-NY-Attended-Lobby-6-LargeHighDefinition.jpg\n",
      "https://images1.loopnet.com/i2/Wq_Le6vm2EFjNLu-cNin6RJZCP3wpPF5Z5P2Av2VRSw/116/277-Park-Ave-New-York-NY-Secure-Key-card-Access-7-LargeHighDefinition.jpg\n",
      "https://images1.loopnet.com/i2/XndVOs6yF79fOgkjxPepKacpf4olcMVCtE0-GAhMJ-Y/116/277-Park-Ave-New-York-NY-Lobby-Elevators-8-LargeHighDefinition.jpg\n",
      "https://images1.loopnet.com/i2/TYw0pe9s_puLXTEP6C0Wu96EJWa6KcMH0uQG0XRQdYw/116/277-Park-Ave-New-York-NY-Amenity-Lounge-with-Seating-9-LargeHighDefinition.jpg\n",
      "https://images1.loopnet.com/i2/l1rH_fMi0E0hln57T-CHdbzqQMgWnz3UlFvXGdL_r10/116/277-Park-Ave-New-York-NY-Amenity-Lounge-10-LargeHighDefinition.jpg\n",
      "https://images1.loopnet.com/i2/tjhpaNJbo9f5PokDIQXPP8d10lytb_4ttSw-PdC528c/116/277-Park-Ave-New-York-NY-Amenity-Lounge-11-LargeHighDefinition.jpg\n",
      "https://images1.loopnet.com/i2/yYCybTWCZNq19DeDk1NteWF4Haaogbislx_tWtIAw2c/116/277-Park-Ave-New-York-NY-Modern-Board-Room-12-LargeHighDefinition.jpg\n",
      "https://images1.loopnet.com/i2/XXEEaDAyBS2hVP7mne-8BrWoM7taO7uspWQWA6dMSYU/116/277-Park-Ave-New-York-NY-Fitness-Center-13-LargeHighDefinition.jpg\n",
      "https://images1.loopnet.com/i2/p25eS-EYqbNYqhLCbMlk6PzulY37IKBJjslUa_WXQb8/116/277-Park-Ave-New-York-NY-Fitness-Center-14-LargeHighDefinition.jpg\n",
      "https://images1.loopnet.com/i2/fkQv8CexdVBXTwXDSq0oRQFY1tLBdtyTXF0b4ml1jQc/116/277-Park-Ave-New-York-NY-Basketball-Court-15-LargeHighDefinition.jpg\n",
      "https://images1.loopnet.com/i2/OGemI4lCuQv7K2NEraGvfN3Je66rtr1G-p2OnvfoPgM/116/277-Park-Ave-New-York-NY-Wellness-Center-16-LargeHighDefinition.jpg\n",
      "https://images1.loopnet.com/i2/-qvJ6HACtQ7GIknkekFRs_Rg2T_6Vyu5xfOAFOF8JQI/116/277-Park-Ave-New-York-NY-On-site-Juice-Bar-17-LargeHighDefinition.jpg\n",
      "['https://images1.loopnet.com/i2/zu2pa5MRk55Oa1OEkqkq9kY69DNE2lgNv3y3WLUHPZY/116/277-Park-Ave-New-York-NY-277-Park-Avenue-1-LargeHighDefinition.jpg', 'https://images1.loopnet.com/i2/BFlclAB7xCgYtzksnnqjBWAJdCTN7GqHROwZUTP1Mwc/116/277-Park-Ave-New-York-NY-Lobby-Virtual-Tour-2-LargeHighDefinition.jpg', 'https://images1.loopnet.com/i2/gmKE9HtUILO_uAB8D-pKkhxgVlJ3Ukq3Ekr-0pm5c8g/116/277-Park-Ave-New-York-NY-Elevator-Banks-Security-Gates-Virtual-Tour-3-LargeHighDefinition.jpg', 'https://images1.loopnet.com/i2/RqiEveHxTO22FpS1cl4XSZ0eELDDIs0l7ruJ9fJYs1M/116/277-Park-Ave-New-York-NY-Iconic-Park-Avenue-Address-4-LargeHighDefinition.jpg', 'https://images1.loopnet.com/i2/5VYDg4OtwgwAh0aFnLbYQ8TYpnaeWDSIM28_rnpYJCI/116/277-Park-Ave-New-York-NY-Building-Entrance-5-LargeHighDefinition.jpg', 'https://images1.loopnet.com/i2/2RnqyVdCGti9JLRdQmnYjyNojz9_gFWdjUaRlha6bb4/116/277-Park-Ave-New-York-NY-Attended-Lobby-6-LargeHighDefinition.jpg', 'https://images1.loopnet.com/i2/Wq_Le6vm2EFjNLu-cNin6RJZCP3wpPF5Z5P2Av2VRSw/116/277-Park-Ave-New-York-NY-Secure-Key-card-Access-7-LargeHighDefinition.jpg', 'https://images1.loopnet.com/i2/XndVOs6yF79fOgkjxPepKacpf4olcMVCtE0-GAhMJ-Y/116/277-Park-Ave-New-York-NY-Lobby-Elevators-8-LargeHighDefinition.jpg', 'https://images1.loopnet.com/i2/TYw0pe9s_puLXTEP6C0Wu96EJWa6KcMH0uQG0XRQdYw/116/277-Park-Ave-New-York-NY-Amenity-Lounge-with-Seating-9-LargeHighDefinition.jpg', 'https://images1.loopnet.com/i2/l1rH_fMi0E0hln57T-CHdbzqQMgWnz3UlFvXGdL_r10/116/277-Park-Ave-New-York-NY-Amenity-Lounge-10-LargeHighDefinition.jpg', 'https://images1.loopnet.com/i2/tjhpaNJbo9f5PokDIQXPP8d10lytb_4ttSw-PdC528c/116/277-Park-Ave-New-York-NY-Amenity-Lounge-11-LargeHighDefinition.jpg', 'https://images1.loopnet.com/i2/yYCybTWCZNq19DeDk1NteWF4Haaogbislx_tWtIAw2c/116/277-Park-Ave-New-York-NY-Modern-Board-Room-12-LargeHighDefinition.jpg', 'https://images1.loopnet.com/i2/XXEEaDAyBS2hVP7mne-8BrWoM7taO7uspWQWA6dMSYU/116/277-Park-Ave-New-York-NY-Fitness-Center-13-LargeHighDefinition.jpg', 'https://images1.loopnet.com/i2/p25eS-EYqbNYqhLCbMlk6PzulY37IKBJjslUa_WXQb8/116/277-Park-Ave-New-York-NY-Fitness-Center-14-LargeHighDefinition.jpg', 'https://images1.loopnet.com/i2/fkQv8CexdVBXTwXDSq0oRQFY1tLBdtyTXF0b4ml1jQc/116/277-Park-Ave-New-York-NY-Basketball-Court-15-LargeHighDefinition.jpg', 'https://images1.loopnet.com/i2/OGemI4lCuQv7K2NEraGvfN3Je66rtr1G-p2OnvfoPgM/116/277-Park-Ave-New-York-NY-Wellness-Center-16-LargeHighDefinition.jpg', 'https://images1.loopnet.com/i2/-qvJ6HACtQ7GIknkekFRs_Rg2T_6Vyu5xfOAFOF8JQI/116/277-Park-Ave-New-York-NY-On-site-Juice-Bar-17-LargeHighDefinition.jpg']\n",
      "['https://images1.loopnet.com/i2/zu2pa5MRk55Oa1OEkqkq9kY69DNE2lgNv3y3WLUHPZY/116/277-Park-Ave-New-York-NY-277-Park-Avenue-1-LargeHighDefinition.jpg', 'https://images1.loopnet.com/i2/BFlclAB7xCgYtzksnnqjBWAJdCTN7GqHROwZUTP1Mwc/116/277-Park-Ave-New-York-NY-Lobby-Virtual-Tour-2-LargeHighDefinition.jpg', 'https://images1.loopnet.com/i2/gmKE9HtUILO_uAB8D-pKkhxgVlJ3Ukq3Ekr-0pm5c8g/116/277-Park-Ave-New-York-NY-Elevator-Banks-Security-Gates-Virtual-Tour-3-LargeHighDefinition.jpg', 'https://images1.loopnet.com/i2/RqiEveHxTO22FpS1cl4XSZ0eELDDIs0l7ruJ9fJYs1M/116/277-Park-Ave-New-York-NY-Iconic-Park-Avenue-Address-4-LargeHighDefinition.jpg', 'https://images1.loopnet.com/i2/5VYDg4OtwgwAh0aFnLbYQ8TYpnaeWDSIM28_rnpYJCI/116/277-Park-Ave-New-York-NY-Building-Entrance-5-LargeHighDefinition.jpg', 'https://images1.loopnet.com/i2/2RnqyVdCGti9JLRdQmnYjyNojz9_gFWdjUaRlha6bb4/116/277-Park-Ave-New-York-NY-Attended-Lobby-6-LargeHighDefinition.jpg', 'https://images1.loopnet.com/i2/Wq_Le6vm2EFjNLu-cNin6RJZCP3wpPF5Z5P2Av2VRSw/116/277-Park-Ave-New-York-NY-Secure-Key-card-Access-7-LargeHighDefinition.jpg', 'https://images1.loopnet.com/i2/XndVOs6yF79fOgkjxPepKacpf4olcMVCtE0-GAhMJ-Y/116/277-Park-Ave-New-York-NY-Lobby-Elevators-8-LargeHighDefinition.jpg', 'https://images1.loopnet.com/i2/TYw0pe9s_puLXTEP6C0Wu96EJWa6KcMH0uQG0XRQdYw/116/277-Park-Ave-New-York-NY-Amenity-Lounge-with-Seating-9-LargeHighDefinition.jpg', 'https://images1.loopnet.com/i2/l1rH_fMi0E0hln57T-CHdbzqQMgWnz3UlFvXGdL_r10/116/277-Park-Ave-New-York-NY-Amenity-Lounge-10-LargeHighDefinition.jpg', 'https://images1.loopnet.com/i2/tjhpaNJbo9f5PokDIQXPP8d10lytb_4ttSw-PdC528c/116/277-Park-Ave-New-York-NY-Amenity-Lounge-11-LargeHighDefinition.jpg', 'https://images1.loopnet.com/i2/yYCybTWCZNq19DeDk1NteWF4Haaogbislx_tWtIAw2c/116/277-Park-Ave-New-York-NY-Modern-Board-Room-12-LargeHighDefinition.jpg', 'https://images1.loopnet.com/i2/XXEEaDAyBS2hVP7mne-8BrWoM7taO7uspWQWA6dMSYU/116/277-Park-Ave-New-York-NY-Fitness-Center-13-LargeHighDefinition.jpg', 'https://images1.loopnet.com/i2/p25eS-EYqbNYqhLCbMlk6PzulY37IKBJjslUa_WXQb8/116/277-Park-Ave-New-York-NY-Fitness-Center-14-LargeHighDefinition.jpg', 'https://images1.loopnet.com/i2/fkQv8CexdVBXTwXDSq0oRQFY1tLBdtyTXF0b4ml1jQc/116/277-Park-Ave-New-York-NY-Basketball-Court-15-LargeHighDefinition.jpg', 'https://images1.loopnet.com/i2/OGemI4lCuQv7K2NEraGvfN3Je66rtr1G-p2OnvfoPgM/116/277-Park-Ave-New-York-NY-Wellness-Center-16-LargeHighDefinition.jpg', 'https://images1.loopnet.com/i2/-qvJ6HACtQ7GIknkekFRs_Rg2T_6Vyu5xfOAFOF8JQI/116/277-Park-Ave-New-York-NY-On-site-Juice-Bar-17-LargeHighDefinition.jpg']\n",
      "['https://images1.loopnet.com/i2/zu2pa5MRk55Oa1OEkqkq9kY69DNE2lgNv3y3WLUHPZY/116/277-Park-Ave-New-York-NY-277-Park-Avenue-1-LargeHighDefinition.jpg', 'https://images1.loopnet.com/i2/BFlclAB7xCgYtzksnnqjBWAJdCTN7GqHROwZUTP1Mwc/116/277-Park-Ave-New-York-NY-Lobby-Virtual-Tour-2-LargeHighDefinition.jpg', 'https://images1.loopnet.com/i2/gmKE9HtUILO_uAB8D-pKkhxgVlJ3Ukq3Ekr-0pm5c8g/116/277-Park-Ave-New-York-NY-Elevator-Banks-Security-Gates-Virtual-Tour-3-LargeHighDefinition.jpg', 'https://images1.loopnet.com/i2/RqiEveHxTO22FpS1cl4XSZ0eELDDIs0l7ruJ9fJYs1M/116/277-Park-Ave-New-York-NY-Iconic-Park-Avenue-Address-4-LargeHighDefinition.jpg', 'https://images1.loopnet.com/i2/5VYDg4OtwgwAh0aFnLbYQ8TYpnaeWDSIM28_rnpYJCI/116/277-Park-Ave-New-York-NY-Building-Entrance-5-LargeHighDefinition.jpg', 'https://images1.loopnet.com/i2/2RnqyVdCGti9JLRdQmnYjyNojz9_gFWdjUaRlha6bb4/116/277-Park-Ave-New-York-NY-Attended-Lobby-6-LargeHighDefinition.jpg', 'https://images1.loopnet.com/i2/Wq_Le6vm2EFjNLu-cNin6RJZCP3wpPF5Z5P2Av2VRSw/116/277-Park-Ave-New-York-NY-Secure-Key-card-Access-7-LargeHighDefinition.jpg', 'https://images1.loopnet.com/i2/XndVOs6yF79fOgkjxPepKacpf4olcMVCtE0-GAhMJ-Y/116/277-Park-Ave-New-York-NY-Lobby-Elevators-8-LargeHighDefinition.jpg', 'https://images1.loopnet.com/i2/TYw0pe9s_puLXTEP6C0Wu96EJWa6KcMH0uQG0XRQdYw/116/277-Park-Ave-New-York-NY-Amenity-Lounge-with-Seating-9-LargeHighDefinition.jpg', 'https://images1.loopnet.com/i2/l1rH_fMi0E0hln57T-CHdbzqQMgWnz3UlFvXGdL_r10/116/277-Park-Ave-New-York-NY-Amenity-Lounge-10-LargeHighDefinition.jpg', 'https://images1.loopnet.com/i2/tjhpaNJbo9f5PokDIQXPP8d10lytb_4ttSw-PdC528c/116/277-Park-Ave-New-York-NY-Amenity-Lounge-11-LargeHighDefinition.jpg', 'https://images1.loopnet.com/i2/yYCybTWCZNq19DeDk1NteWF4Haaogbislx_tWtIAw2c/116/277-Park-Ave-New-York-NY-Modern-Board-Room-12-LargeHighDefinition.jpg', 'https://images1.loopnet.com/i2/XXEEaDAyBS2hVP7mne-8BrWoM7taO7uspWQWA6dMSYU/116/277-Park-Ave-New-York-NY-Fitness-Center-13-LargeHighDefinition.jpg', 'https://images1.loopnet.com/i2/p25eS-EYqbNYqhLCbMlk6PzulY37IKBJjslUa_WXQb8/116/277-Park-Ave-New-York-NY-Fitness-Center-14-LargeHighDefinition.jpg', 'https://images1.loopnet.com/i2/fkQv8CexdVBXTwXDSq0oRQFY1tLBdtyTXF0b4ml1jQc/116/277-Park-Ave-New-York-NY-Basketball-Court-15-LargeHighDefinition.jpg', 'https://images1.loopnet.com/i2/OGemI4lCuQv7K2NEraGvfN3Je66rtr1G-p2OnvfoPgM/116/277-Park-Ave-New-York-NY-Wellness-Center-16-LargeHighDefinition.jpg', 'https://images1.loopnet.com/i2/-qvJ6HACtQ7GIknkekFRs_Rg2T_6Vyu5xfOAFOF8JQI/116/277-Park-Ave-New-York-NY-On-site-Juice-Bar-17-LargeHighDefinition.jpg']\n"
     ]
    },
    {
     "name": "stderr",
     "output_type": "stream",
     "text": [
      "  1%|▏                                        | 3/528 [00:26<1:17:04,  8.81s/it]"
     ]
    },
    {
     "name": "stdout",
     "output_type": "stream",
     "text": [
      "https://images1.loopnet.com/i2/zu2pa5MRk55Oa1OEkqkq9kY69DNE2lgNv3y3WLUHPZY/116/277-Park-Ave-New-York-NY-277-Park-Avenue-1-LargeHighDefinition.jpg\n",
      "['https://images1.loopnet.com/i2/zu2pa5MRk55Oa1OEkqkq9kY69DNE2lgNv3y3WLUHPZY/116/277-Park-Ave-New-York-NY-277-Park-Avenue-1-LargeHighDefinition.jpg']\n",
      "https://images1.loopnet.com/i2/RqiEveHxTO22FpS1cl4XSZ0eELDDIs0l7ruJ9fJYs1M/116/277-Park-Ave-New-York-NY-Recently-Renovated-Iconic-Park-Avenue-Office-Building-2-LargeHighDefinition.jpg\n",
      "https://images1.loopnet.com/i2/5VYDg4OtwgwAh0aFnLbYQ8TYpnaeWDSIM28_rnpYJCI/116/277-Park-Ave-New-York-NY-Building-Entrance-3-LargeHighDefinition.jpg\n",
      "['https://images1.loopnet.com/i2/zu2pa5MRk55Oa1OEkqkq9kY69DNE2lgNv3y3WLUHPZY/116/277-Park-Ave-New-York-NY-277-Park-Avenue-1-LargeHighDefinition.jpg', 'https://images1.loopnet.com/i2/RqiEveHxTO22FpS1cl4XSZ0eELDDIs0l7ruJ9fJYs1M/116/277-Park-Ave-New-York-NY-Recently-Renovated-Iconic-Park-Avenue-Office-Building-2-LargeHighDefinition.jpg', 'https://images1.loopnet.com/i2/5VYDg4OtwgwAh0aFnLbYQ8TYpnaeWDSIM28_rnpYJCI/116/277-Park-Ave-New-York-NY-Building-Entrance-3-LargeHighDefinition.jpg']\n"
     ]
    },
    {
     "name": "stderr",
     "output_type": "stream",
     "text": [
      "  1%|▎                                        | 4/528 [00:33<1:09:45,  7.99s/it]"
     ]
    },
    {
     "name": "stdout",
     "output_type": "stream",
     "text": [
      "['https://images1.loopnet.com/i2/zu2pa5MRk55Oa1OEkqkq9kY69DNE2lgNv3y3WLUHPZY/116/277-Park-Ave-New-York-NY-277-Park-Avenue-1-LargeHighDefinition.jpg', 'https://images1.loopnet.com/i2/RqiEveHxTO22FpS1cl4XSZ0eELDDIs0l7ruJ9fJYs1M/116/277-Park-Ave-New-York-NY-Recently-Renovated-Iconic-Park-Avenue-Office-Building-2-LargeHighDefinition.jpg', 'https://images1.loopnet.com/i2/5VYDg4OtwgwAh0aFnLbYQ8TYpnaeWDSIM28_rnpYJCI/116/277-Park-Ave-New-York-NY-Building-Entrance-3-LargeHighDefinition.jpg']\n",
      "['https://images1.loopnet.com/i2/zu2pa5MRk55Oa1OEkqkq9kY69DNE2lgNv3y3WLUHPZY/116/277-Park-Ave-New-York-NY-277-Park-Avenue-1-LargeHighDefinition.jpg', 'https://images1.loopnet.com/i2/RqiEveHxTO22FpS1cl4XSZ0eELDDIs0l7ruJ9fJYs1M/116/277-Park-Ave-New-York-NY-Recently-Renovated-Iconic-Park-Avenue-Office-Building-2-LargeHighDefinition.jpg', 'https://images1.loopnet.com/i2/5VYDg4OtwgwAh0aFnLbYQ8TYpnaeWDSIM28_rnpYJCI/116/277-Park-Ave-New-York-NY-Building-Entrance-3-LargeHighDefinition.jpg']\n",
      "https://images1.loopnet.com/i2/pxP0lYbFP9I2zJjuzp7i9b34QpQndXtsf7A1pZD5l4E/116/27-W-20th-St-New-York-NY-Architectural-Accents-1-LargeHighDefinition.jpg\n",
      "['https://images1.loopnet.com/i2/pxP0lYbFP9I2zJjuzp7i9b34QpQndXtsf7A1pZD5l4E/116/27-W-20th-St-New-York-NY-Architectural-Accents-1-LargeHighDefinition.jpg']\n",
      "https://images1.loopnet.com/i2/1eL4_LFuPqKlMX2RaiLpdZCCw9DTALsEzx_p_9XEsAc/116/27-W-20th-St-New-York-NY-Iconic-Building-2-LargeHighDefinition.jpg\n",
      "https://images1.loopnet.com/i2/f4J8657Yc5UxJGdp1jZuNtPxi99UBY_uRB_hVw76iHQ/116/27-W-20th-St-New-York-NY-Ground-Floor-Tenant-Example-3-LargeHighDefinition.jpg\n",
      "https://images1.loopnet.com/i2/3Ury75MkeyPeiztlHa_8GM9btHOo4DQy-ktRWJGTnY8/116/27-W-20th-St-New-York-NY-Great-Space-Great-Light-4-LargeHighDefinition.jpg\n",
      "https://images1.loopnet.com/i2/7h0nW5zdAYMCelTnd6Pxw0fMCPVsNZFt3QRBipE_tmM/116/27-W-20th-St-New-York-NY-Top-down-View-5-LargeHighDefinition.jpg\n",
      "https://images1.loopnet.com/i2/iMimv3Z7vIlsmIKGlZ7idd8J0BtS3sNXRn60YlRivfo/116/27-W-20th-St-New-York-NY-Flatiron-Building-6-LargeHighDefinition.jpg\n",
      "https://images1.loopnet.com/i2/WPQChN4tgd3kxVPzJqx2EcMpUQJx4QeWI5SF9rkTeTs/116/27-W-20th-St-New-York-NY-Exquisite-Building-Details-7-LargeHighDefinition.jpg\n"
     ]
    },
    {
     "name": "stderr",
     "output_type": "stream",
     "text": [
      "  1%|▍                                        | 5/528 [00:40<1:08:01,  7.80s/it]"
     ]
    },
    {
     "name": "stdout",
     "output_type": "stream",
     "text": [
      "['https://images1.loopnet.com/i2/pxP0lYbFP9I2zJjuzp7i9b34QpQndXtsf7A1pZD5l4E/116/27-W-20th-St-New-York-NY-Architectural-Accents-1-LargeHighDefinition.jpg', 'https://images1.loopnet.com/i2/1eL4_LFuPqKlMX2RaiLpdZCCw9DTALsEzx_p_9XEsAc/116/27-W-20th-St-New-York-NY-Iconic-Building-2-LargeHighDefinition.jpg', 'https://images1.loopnet.com/i2/f4J8657Yc5UxJGdp1jZuNtPxi99UBY_uRB_hVw76iHQ/116/27-W-20th-St-New-York-NY-Ground-Floor-Tenant-Example-3-LargeHighDefinition.jpg', 'https://images1.loopnet.com/i2/3Ury75MkeyPeiztlHa_8GM9btHOo4DQy-ktRWJGTnY8/116/27-W-20th-St-New-York-NY-Great-Space-Great-Light-4-LargeHighDefinition.jpg', 'https://images1.loopnet.com/i2/7h0nW5zdAYMCelTnd6Pxw0fMCPVsNZFt3QRBipE_tmM/116/27-W-20th-St-New-York-NY-Top-down-View-5-LargeHighDefinition.jpg', 'https://images1.loopnet.com/i2/iMimv3Z7vIlsmIKGlZ7idd8J0BtS3sNXRn60YlRivfo/116/27-W-20th-St-New-York-NY-Flatiron-Building-6-LargeHighDefinition.jpg', 'https://images1.loopnet.com/i2/WPQChN4tgd3kxVPzJqx2EcMpUQJx4QeWI5SF9rkTeTs/116/27-W-20th-St-New-York-NY-Exquisite-Building-Details-7-LargeHighDefinition.jpg']\n",
      "['https://images1.loopnet.com/i2/pxP0lYbFP9I2zJjuzp7i9b34QpQndXtsf7A1pZD5l4E/116/27-W-20th-St-New-York-NY-Architectural-Accents-1-LargeHighDefinition.jpg', 'https://images1.loopnet.com/i2/1eL4_LFuPqKlMX2RaiLpdZCCw9DTALsEzx_p_9XEsAc/116/27-W-20th-St-New-York-NY-Iconic-Building-2-LargeHighDefinition.jpg', 'https://images1.loopnet.com/i2/f4J8657Yc5UxJGdp1jZuNtPxi99UBY_uRB_hVw76iHQ/116/27-W-20th-St-New-York-NY-Ground-Floor-Tenant-Example-3-LargeHighDefinition.jpg', 'https://images1.loopnet.com/i2/3Ury75MkeyPeiztlHa_8GM9btHOo4DQy-ktRWJGTnY8/116/27-W-20th-St-New-York-NY-Great-Space-Great-Light-4-LargeHighDefinition.jpg', 'https://images1.loopnet.com/i2/7h0nW5zdAYMCelTnd6Pxw0fMCPVsNZFt3QRBipE_tmM/116/27-W-20th-St-New-York-NY-Top-down-View-5-LargeHighDefinition.jpg', 'https://images1.loopnet.com/i2/iMimv3Z7vIlsmIKGlZ7idd8J0BtS3sNXRn60YlRivfo/116/27-W-20th-St-New-York-NY-Flatiron-Building-6-LargeHighDefinition.jpg', 'https://images1.loopnet.com/i2/WPQChN4tgd3kxVPzJqx2EcMpUQJx4QeWI5SF9rkTeTs/116/27-W-20th-St-New-York-NY-Exquisite-Building-Details-7-LargeHighDefinition.jpg']\n",
      "['https://images1.loopnet.com/i2/pxP0lYbFP9I2zJjuzp7i9b34QpQndXtsf7A1pZD5l4E/116/27-W-20th-St-New-York-NY-Architectural-Accents-1-LargeHighDefinition.jpg', 'https://images1.loopnet.com/i2/1eL4_LFuPqKlMX2RaiLpdZCCw9DTALsEzx_p_9XEsAc/116/27-W-20th-St-New-York-NY-Iconic-Building-2-LargeHighDefinition.jpg', 'https://images1.loopnet.com/i2/f4J8657Yc5UxJGdp1jZuNtPxi99UBY_uRB_hVw76iHQ/116/27-W-20th-St-New-York-NY-Ground-Floor-Tenant-Example-3-LargeHighDefinition.jpg', 'https://images1.loopnet.com/i2/3Ury75MkeyPeiztlHa_8GM9btHOo4DQy-ktRWJGTnY8/116/27-W-20th-St-New-York-NY-Great-Space-Great-Light-4-LargeHighDefinition.jpg', 'https://images1.loopnet.com/i2/7h0nW5zdAYMCelTnd6Pxw0fMCPVsNZFt3QRBipE_tmM/116/27-W-20th-St-New-York-NY-Top-down-View-5-LargeHighDefinition.jpg', 'https://images1.loopnet.com/i2/iMimv3Z7vIlsmIKGlZ7idd8J0BtS3sNXRn60YlRivfo/116/27-W-20th-St-New-York-NY-Flatiron-Building-6-LargeHighDefinition.jpg', 'https://images1.loopnet.com/i2/WPQChN4tgd3kxVPzJqx2EcMpUQJx4QeWI5SF9rkTeTs/116/27-W-20th-St-New-York-NY-Exquisite-Building-Details-7-LargeHighDefinition.jpg']\n",
      "https://images1.loopnet.com/i2/kjMhB_528EahQJBVs7JIfvhf5HSmxBBpLwmyjq-77VI/116/3-Times-Sq-New-York-NY-3-Times-Square-1-LargeHighDefinition.jpg\n",
      "['https://images1.loopnet.com/i2/kjMhB_528EahQJBVs7JIfvhf5HSmxBBpLwmyjq-77VI/116/3-Times-Sq-New-York-NY-3-Times-Square-1-LargeHighDefinition.jpg']\n",
      "https://images1.loopnet.com/i2/W4wqS3y3URqiUScMtvZH_IS2ldZ4y5SfwFkHbPzZy3I/116/3-Times-Sq-New-York-NY-15th-Floor-Suite-2-LargeHighDefinition.jpg\n",
      "https://images1.loopnet.com/i2/K44XgRQrVpe_ZcovSexKfAduKqUSJl-12UPJOmMHEIE/116/3-Times-Sq-New-York-NY-Building-Photo-3-LargeHighDefinition.jpg\n",
      "https://images1.loopnet.com/i2/qvtS0VVkyz3tSX8O681hOzk6Tb3XVkexB8u0LLPBbRo/116/3-Times-Sq-New-York-NY-3-Times-Square-4-LargeHighDefinition.jpg\n",
      "https://images1.loopnet.com/i2/XUhlKdrZaW-E1HyjIIjrXq5ma6_7xdCIaCaULbuCqe8/116/3-Times-Sq-New-York-NY-3-Times-Square-5-LargeHighDefinition.jpg\n",
      "https://images1.loopnet.com/i2/xvh4RViVmx0nPnuSwVcBpKH5DBBq5Ir52stNVr_gDlw/116/3-Times-Sq-New-York-NY-Entrance-6-LargeHighDefinition.jpg\n",
      "https://images1.loopnet.com/i2/51U-Zv8ETYiHE7cG3J_Q6u4VEStxBgBhl3wHgy5LTYA/116/3-Times-Sq-New-York-NY-3-Times-Square-7-LargeHighDefinition.jpg\n",
      "['https://images1.loopnet.com/i2/kjMhB_528EahQJBVs7JIfvhf5HSmxBBpLwmyjq-77VI/116/3-Times-Sq-New-York-NY-3-Times-Square-1-LargeHighDefinition.jpg', 'https://images1.loopnet.com/i2/W4wqS3y3URqiUScMtvZH_IS2ldZ4y5SfwFkHbPzZy3I/116/3-Times-Sq-New-York-NY-15th-Floor-Suite-2-LargeHighDefinition.jpg', 'https://images1.loopnet.com/i2/K44XgRQrVpe_ZcovSexKfAduKqUSJl-12UPJOmMHEIE/116/3-Times-Sq-New-York-NY-Building-Photo-3-LargeHighDefinition.jpg', 'https://images1.loopnet.com/i2/qvtS0VVkyz3tSX8O681hOzk6Tb3XVkexB8u0LLPBbRo/116/3-Times-Sq-New-York-NY-3-Times-Square-4-LargeHighDefinition.jpg', 'https://images1.loopnet.com/i2/XUhlKdrZaW-E1HyjIIjrXq5ma6_7xdCIaCaULbuCqe8/116/3-Times-Sq-New-York-NY-3-Times-Square-5-LargeHighDefinition.jpg', 'https://images1.loopnet.com/i2/xvh4RViVmx0nPnuSwVcBpKH5DBBq5Ir52stNVr_gDlw/116/3-Times-Sq-New-York-NY-Entrance-6-LargeHighDefinition.jpg', 'https://images1.loopnet.com/i2/51U-Zv8ETYiHE7cG3J_Q6u4VEStxBgBhl3wHgy5LTYA/116/3-Times-Sq-New-York-NY-3-Times-Square-7-LargeHighDefinition.jpg']\n",
      "['https://images1.loopnet.com/i2/kjMhB_528EahQJBVs7JIfvhf5HSmxBBpLwmyjq-77VI/116/3-Times-Sq-New-York-NY-3-Times-Square-1-LargeHighDefinition.jpg', 'https://images1.loopnet.com/i2/W4wqS3y3URqiUScMtvZH_IS2ldZ4y5SfwFkHbPzZy3I/116/3-Times-Sq-New-York-NY-15th-Floor-Suite-2-LargeHighDefinition.jpg', 'https://images1.loopnet.com/i2/K44XgRQrVpe_ZcovSexKfAduKqUSJl-12UPJOmMHEIE/116/3-Times-Sq-New-York-NY-Building-Photo-3-LargeHighDefinition.jpg', 'https://images1.loopnet.com/i2/qvtS0VVkyz3tSX8O681hOzk6Tb3XVkexB8u0LLPBbRo/116/3-Times-Sq-New-York-NY-3-Times-Square-4-LargeHighDefinition.jpg', 'https://images1.loopnet.com/i2/XUhlKdrZaW-E1HyjIIjrXq5ma6_7xdCIaCaULbuCqe8/116/3-Times-Sq-New-York-NY-3-Times-Square-5-LargeHighDefinition.jpg', 'https://images1.loopnet.com/i2/xvh4RViVmx0nPnuSwVcBpKH5DBBq5Ir52stNVr_gDlw/116/3-Times-Sq-New-York-NY-Entrance-6-LargeHighDefinition.jpg', 'https://images1.loopnet.com/i2/51U-Zv8ETYiHE7cG3J_Q6u4VEStxBgBhl3wHgy5LTYA/116/3-Times-Sq-New-York-NY-3-Times-Square-7-LargeHighDefinition.jpg']\n"
     ]
    },
    {
     "name": "stderr",
     "output_type": "stream",
     "text": [
      "  1%|▍                                        | 6/528 [00:49<1:09:51,  8.03s/it]"
     ]
    },
    {
     "name": "stdout",
     "output_type": "stream",
     "text": [
      "['https://images1.loopnet.com/i2/kjMhB_528EahQJBVs7JIfvhf5HSmxBBpLwmyjq-77VI/116/3-Times-Sq-New-York-NY-3-Times-Square-1-LargeHighDefinition.jpg', 'https://images1.loopnet.com/i2/W4wqS3y3URqiUScMtvZH_IS2ldZ4y5SfwFkHbPzZy3I/116/3-Times-Sq-New-York-NY-15th-Floor-Suite-2-LargeHighDefinition.jpg', 'https://images1.loopnet.com/i2/K44XgRQrVpe_ZcovSexKfAduKqUSJl-12UPJOmMHEIE/116/3-Times-Sq-New-York-NY-Building-Photo-3-LargeHighDefinition.jpg', 'https://images1.loopnet.com/i2/qvtS0VVkyz3tSX8O681hOzk6Tb3XVkexB8u0LLPBbRo/116/3-Times-Sq-New-York-NY-3-Times-Square-4-LargeHighDefinition.jpg', 'https://images1.loopnet.com/i2/XUhlKdrZaW-E1HyjIIjrXq5ma6_7xdCIaCaULbuCqe8/116/3-Times-Sq-New-York-NY-3-Times-Square-5-LargeHighDefinition.jpg', 'https://images1.loopnet.com/i2/xvh4RViVmx0nPnuSwVcBpKH5DBBq5Ir52stNVr_gDlw/116/3-Times-Sq-New-York-NY-Entrance-6-LargeHighDefinition.jpg', 'https://images1.loopnet.com/i2/51U-Zv8ETYiHE7cG3J_Q6u4VEStxBgBhl3wHgy5LTYA/116/3-Times-Sq-New-York-NY-3-Times-Square-7-LargeHighDefinition.jpg']\n",
      "https://images1.loopnet.com/i2/KNeHdHDEHdi_m1QD3U3Ss0o3WZPpikkTDwqakY9yMns/116/1133-Avenue-of-the-Americas-New-York-NY-1133-Avenue-of-the-Americas-1-LargeHighDefinition.jpg\n",
      "https://images1.loopnet.com/i2/95m75D_7OEooPyQTSXaxNDbPAMbauWiUkJZem11jPxc/116/1133-Avenue-of-the-Americas-New-York-NY-Landmark-Property-2-LargeHighDefinition.jpg\n",
      "https://images1.loopnet.com/i2/UD_PKwIFwSyqsdgKMEA2MxbI1_-xDajRazU5o3wXgCE/116/1133-Avenue-of-the-Americas-New-York-NY-Entry-Streetscape-3-LargeHighDefinition.jpg\n",
      "https://images1.loopnet.com/i2/mjSsMhPv3hQkzS5GY9IlZp1TpxKt0AaKpjd0vyUeVHU/116/1133-Avenue-of-the-Americas-New-York-NY-Plaza-4-LargeHighDefinition.jpg\n",
      "https://images1.loopnet.com/i2/YRwBZ0Gen16Y4MUT9VKOVDjGsC20auH_GacTOF0PPMU/116/1133-Avenue-of-the-Americas-New-York-NY-Jewel-Box-Lobby-5-LargeHighDefinition.jpg\n",
      "https://images1.loopnet.com/i2/jlGP8qdFS1A156LkegfR6Tk9SvZPqz8q1o-oNAdKBdo/116/1133-Avenue-of-the-Americas-New-York-NY-Renovated-Lobby-6-LargeHighDefinition.jpg\n",
      "https://images1.loopnet.com/i2/cMzTjqPsuV_gmRIBCuZQiAQ6h7Upj1AjjcNbJuLbzBo/116/1133-Avenue-of-the-Americas-New-York-NY-Incredible-Views-7-LargeHighDefinition.jpg\n",
      "https://images1.loopnet.com/i2/knbXe3IpV3Eor3alRXXw_JAX3xpO2k7bnOi9muDZ2-0/116/1133-Avenue-of-the-Americas-New-York-NY-1133-Avenue-of-the-Americas-Streetscape-8-LargeHighDefinition.jpg\n",
      "['https://images1.loopnet.com/i2/KNeHdHDEHdi_m1QD3U3Ss0o3WZPpikkTDwqakY9yMns/116/1133-Avenue-of-the-Americas-New-York-NY-1133-Avenue-of-the-Americas-1-LargeHighDefinition.jpg', 'https://images1.loopnet.com/i2/95m75D_7OEooPyQTSXaxNDbPAMbauWiUkJZem11jPxc/116/1133-Avenue-of-the-Americas-New-York-NY-Landmark-Property-2-LargeHighDefinition.jpg', 'https://images1.loopnet.com/i2/UD_PKwIFwSyqsdgKMEA2MxbI1_-xDajRazU5o3wXgCE/116/1133-Avenue-of-the-Americas-New-York-NY-Entry-Streetscape-3-LargeHighDefinition.jpg', 'https://images1.loopnet.com/i2/mjSsMhPv3hQkzS5GY9IlZp1TpxKt0AaKpjd0vyUeVHU/116/1133-Avenue-of-the-Americas-New-York-NY-Plaza-4-LargeHighDefinition.jpg', 'https://images1.loopnet.com/i2/YRwBZ0Gen16Y4MUT9VKOVDjGsC20auH_GacTOF0PPMU/116/1133-Avenue-of-the-Americas-New-York-NY-Jewel-Box-Lobby-5-LargeHighDefinition.jpg', 'https://images1.loopnet.com/i2/jlGP8qdFS1A156LkegfR6Tk9SvZPqz8q1o-oNAdKBdo/116/1133-Avenue-of-the-Americas-New-York-NY-Renovated-Lobby-6-LargeHighDefinition.jpg', 'https://images1.loopnet.com/i2/cMzTjqPsuV_gmRIBCuZQiAQ6h7Upj1AjjcNbJuLbzBo/116/1133-Avenue-of-the-Americas-New-York-NY-Incredible-Views-7-LargeHighDefinition.jpg', 'https://images1.loopnet.com/i2/knbXe3IpV3Eor3alRXXw_JAX3xpO2k7bnOi9muDZ2-0/116/1133-Avenue-of-the-Americas-New-York-NY-1133-Avenue-of-the-Americas-Streetscape-8-LargeHighDefinition.jpg']\n",
      "['https://images1.loopnet.com/i2/KNeHdHDEHdi_m1QD3U3Ss0o3WZPpikkTDwqakY9yMns/116/1133-Avenue-of-the-Americas-New-York-NY-1133-Avenue-of-the-Americas-1-LargeHighDefinition.jpg', 'https://images1.loopnet.com/i2/95m75D_7OEooPyQTSXaxNDbPAMbauWiUkJZem11jPxc/116/1133-Avenue-of-the-Americas-New-York-NY-Landmark-Property-2-LargeHighDefinition.jpg', 'https://images1.loopnet.com/i2/UD_PKwIFwSyqsdgKMEA2MxbI1_-xDajRazU5o3wXgCE/116/1133-Avenue-of-the-Americas-New-York-NY-Entry-Streetscape-3-LargeHighDefinition.jpg', 'https://images1.loopnet.com/i2/mjSsMhPv3hQkzS5GY9IlZp1TpxKt0AaKpjd0vyUeVHU/116/1133-Avenue-of-the-Americas-New-York-NY-Plaza-4-LargeHighDefinition.jpg', 'https://images1.loopnet.com/i2/YRwBZ0Gen16Y4MUT9VKOVDjGsC20auH_GacTOF0PPMU/116/1133-Avenue-of-the-Americas-New-York-NY-Jewel-Box-Lobby-5-LargeHighDefinition.jpg', 'https://images1.loopnet.com/i2/jlGP8qdFS1A156LkegfR6Tk9SvZPqz8q1o-oNAdKBdo/116/1133-Avenue-of-the-Americas-New-York-NY-Renovated-Lobby-6-LargeHighDefinition.jpg', 'https://images1.loopnet.com/i2/cMzTjqPsuV_gmRIBCuZQiAQ6h7Upj1AjjcNbJuLbzBo/116/1133-Avenue-of-the-Americas-New-York-NY-Incredible-Views-7-LargeHighDefinition.jpg', 'https://images1.loopnet.com/i2/knbXe3IpV3Eor3alRXXw_JAX3xpO2k7bnOi9muDZ2-0/116/1133-Avenue-of-the-Americas-New-York-NY-1133-Avenue-of-the-Americas-Streetscape-8-LargeHighDefinition.jpg']\n",
      "['https://images1.loopnet.com/i2/KNeHdHDEHdi_m1QD3U3Ss0o3WZPpikkTDwqakY9yMns/116/1133-Avenue-of-the-Americas-New-York-NY-1133-Avenue-of-the-Americas-1-LargeHighDefinition.jpg', 'https://images1.loopnet.com/i2/95m75D_7OEooPyQTSXaxNDbPAMbauWiUkJZem11jPxc/116/1133-Avenue-of-the-Americas-New-York-NY-Landmark-Property-2-LargeHighDefinition.jpg', 'https://images1.loopnet.com/i2/UD_PKwIFwSyqsdgKMEA2MxbI1_-xDajRazU5o3wXgCE/116/1133-Avenue-of-the-Americas-New-York-NY-Entry-Streetscape-3-LargeHighDefinition.jpg', 'https://images1.loopnet.com/i2/mjSsMhPv3hQkzS5GY9IlZp1TpxKt0AaKpjd0vyUeVHU/116/1133-Avenue-of-the-Americas-New-York-NY-Plaza-4-LargeHighDefinition.jpg', 'https://images1.loopnet.com/i2/YRwBZ0Gen16Y4MUT9VKOVDjGsC20auH_GacTOF0PPMU/116/1133-Avenue-of-the-Americas-New-York-NY-Jewel-Box-Lobby-5-LargeHighDefinition.jpg', 'https://images1.loopnet.com/i2/jlGP8qdFS1A156LkegfR6Tk9SvZPqz8q1o-oNAdKBdo/116/1133-Avenue-of-the-Americas-New-York-NY-Renovated-Lobby-6-LargeHighDefinition.jpg', 'https://images1.loopnet.com/i2/cMzTjqPsuV_gmRIBCuZQiAQ6h7Upj1AjjcNbJuLbzBo/116/1133-Avenue-of-the-Americas-New-York-NY-Incredible-Views-7-LargeHighDefinition.jpg', 'https://images1.loopnet.com/i2/knbXe3IpV3Eor3alRXXw_JAX3xpO2k7bnOi9muDZ2-0/116/1133-Avenue-of-the-Americas-New-York-NY-1133-Avenue-of-the-Americas-Streetscape-8-LargeHighDefinition.jpg']\n"
     ]
    },
    {
     "name": "stderr",
     "output_type": "stream",
     "text": [
      "  1%|▌                                        | 7/528 [01:00<1:18:08,  9.00s/it]"
     ]
    },
    {
     "name": "stdout",
     "output_type": "stream",
     "text": [
      "['https://images1.loopnet.com/i2/KNeHdHDEHdi_m1QD3U3Ss0o3WZPpikkTDwqakY9yMns/116/1133-Avenue-of-the-Americas-New-York-NY-1133-Avenue-of-the-Americas-1-LargeHighDefinition.jpg', 'https://images1.loopnet.com/i2/95m75D_7OEooPyQTSXaxNDbPAMbauWiUkJZem11jPxc/116/1133-Avenue-of-the-Americas-New-York-NY-Landmark-Property-2-LargeHighDefinition.jpg', 'https://images1.loopnet.com/i2/UD_PKwIFwSyqsdgKMEA2MxbI1_-xDajRazU5o3wXgCE/116/1133-Avenue-of-the-Americas-New-York-NY-Entry-Streetscape-3-LargeHighDefinition.jpg', 'https://images1.loopnet.com/i2/mjSsMhPv3hQkzS5GY9IlZp1TpxKt0AaKpjd0vyUeVHU/116/1133-Avenue-of-the-Americas-New-York-NY-Plaza-4-LargeHighDefinition.jpg', 'https://images1.loopnet.com/i2/YRwBZ0Gen16Y4MUT9VKOVDjGsC20auH_GacTOF0PPMU/116/1133-Avenue-of-the-Americas-New-York-NY-Jewel-Box-Lobby-5-LargeHighDefinition.jpg', 'https://images1.loopnet.com/i2/jlGP8qdFS1A156LkegfR6Tk9SvZPqz8q1o-oNAdKBdo/116/1133-Avenue-of-the-Americas-New-York-NY-Renovated-Lobby-6-LargeHighDefinition.jpg', 'https://images1.loopnet.com/i2/cMzTjqPsuV_gmRIBCuZQiAQ6h7Upj1AjjcNbJuLbzBo/116/1133-Avenue-of-the-Americas-New-York-NY-Incredible-Views-7-LargeHighDefinition.jpg', 'https://images1.loopnet.com/i2/knbXe3IpV3Eor3alRXXw_JAX3xpO2k7bnOi9muDZ2-0/116/1133-Avenue-of-the-Americas-New-York-NY-1133-Avenue-of-the-Americas-Streetscape-8-LargeHighDefinition.jpg']\n",
      "https://images1.loopnet.com/i2/BpWmL7GFTEHdSlwdAAK5CI3TMyNjpwDdr6f5zczZH6U/116/530-Fifth-Ave-New-York-NY-Convene-1-LargeHighDefinition.jpg\n",
      "['https://images1.loopnet.com/i2/BpWmL7GFTEHdSlwdAAK5CI3TMyNjpwDdr6f5zczZH6U/116/530-Fifth-Ave-New-York-NY-Convene-1-LargeHighDefinition.jpg']\n",
      "https://images1.loopnet.com/i2/SJJV02Wc_HobBFxZTCzf1GnC9GmFWY8bQypMOSUCMdE/116/530-Fifth-Ave-New-York-NY-Reception-2-LargeHighDefinition.jpg\n",
      "https://images1.loopnet.com/i2/WrWF11Deb5cJocfoXp0wL-DuKBrLignKSY7lw7Wb7rQ/116/530-Fifth-Ave-New-York-NY-Modern-Interior-3-LargeHighDefinition.jpg\n",
      "https://images1.loopnet.com/i2/f02gflfxwasVSmPOxUHfChvNh31jcHLc1kI7idRGKAE/116/530-Fifth-Ave-New-York-NY-Seating-Area-4-LargeHighDefinition.jpg\n",
      "https://images1.loopnet.com/i2/9cGat9HyYCmTUZ4yLd7OasoWzweB6_1L6PTCShJi-S8/116/530-Fifth-Ave-New-York-NY-Conference-Room-5-LargeHighDefinition.jpg\n",
      "https://images1.loopnet.com/i2/FPitXVr8EdxykXiHv7wspRYC8Mi9EUHKpCmqTnsatwY/116/530-Fifth-Ave-New-York-NY-Workstations-6-LargeHighDefinition.jpg\n",
      "https://images1.loopnet.com/i2/2KAhTFSDml9g2V1CqtAYGOO_fsup6_tZs5sKjdF4ZM0/116/530-Fifth-Ave-New-York-NY-Conference-Room-7-LargeHighDefinition.jpg\n",
      "https://images1.loopnet.com/i2/49BgLvrl7dUTH4xFH9em0gP3Ft-CayMVkhMFcthME0M/116/530-Fifth-Ave-New-York-NY-Open-Floor-Plan-8-LargeHighDefinition.jpg\n",
      "https://images1.loopnet.com/i2/PJp7mQYL6K3U5GNnZWhH0imh-2iAX_uy-52TS3xqsjk/116/530-Fifth-Ave-New-York-NY-Fitness-Center-9-LargeHighDefinition.jpg\n",
      "https://images1.loopnet.com/i2/8akcmKBB2OkRQo4wrfIVMtvhG3ypMGrInUeq6RDsDZo/116/530-Fifth-Ave-New-York-NY-Individual-Rooms-10-LargeHighDefinition.jpg\n",
      "https://images1.loopnet.com/i2/ZfrA_rPzqxLmKHoUBd1RVVXlFhqzc_QvV_gpU6zEV0E/116/530-Fifth-Ave-New-York-NY-Open-Floor-Plan-11-LargeHighDefinition.jpg\n",
      "https://images1.loopnet.com/i2/HXcTnwjj-tulf58bnu8oK46C0UvN-b0_a8-D6VjqqKc/116/530-Fifth-Ave-New-York-NY-Outdoor-Patio-12-LargeHighDefinition.jpg\n",
      "https://images1.loopnet.com/i2/JgAHHQygzSTBJ2R3W449wpnI3j5d44CPPlhP5BSHyXw/116/530-Fifth-Ave-New-York-NY-Double-Height-Interior-13-LargeHighDefinition.jpg\n",
      "https://images1.loopnet.com/i2/8Ugju5pwOIjSWVsPXNXw5cCQFvmoblYhbg339NcIATY/116/530-Fifth-Ave-New-York-NY-Open-Floor-Plan-14-LargeHighDefinition.jpg\n",
      "https://images1.loopnet.com/i2/DNGRS4Fb0DSTZKPR6BTsVwb_Q6js_RzDnqOAqA21xMU/116/530-Fifth-Ave-New-York-NY-Various-Sitting-Options-15-LargeHighDefinition.jpg\n",
      "https://images1.loopnet.com/i2/hLplgorTi29mi89QZmiUv1MmuB807n3XootgdTwMbKQ/116/530-Fifth-Ave-New-York-NY-Building-Lobby-16-LargeHighDefinition.jpg\n",
      "https://images1.loopnet.com/i2/gQxrcFslNiOz7oe3_0rkRxUh4NjQd1jnPlGT_ItF2Dc/116/530-Fifth-Ave-New-York-NY-Sidewalk-View-17-LargeHighDefinition.jpg\n",
      "https://images1.loopnet.com/i2/HjsNQ2dtHQ5dJTTLz9OGte709zrwzBvSSF2gczBaSf4/116/530-Fifth-Ave-New-York-NY-Building-Entrance-18-LargeHighDefinition.jpg\n",
      "https://images1.loopnet.com/i2/2AVKOT0VURTHGVLPRddHyv4Ye7R-lADRfKQO_MrhUOk/116/530-Fifth-Ave-New-York-NY-Landmark-Property-19-LargeHighDefinition.jpg\n",
      "https://images1.loopnet.com/i2/ux4Gg3w3QhwbV8VdD4uxHVcZTahTKQ90ERVUnMFezCA/116/530-Fifth-Ave-New-York-NY-Manhattan-Location-20-LargeHighDefinition.jpg\n",
      "https://images1.loopnet.com/i2/54K5TXDSKxNW6DXxBKCi0i8tyfyVbYfVCzRvaRV62As/116/530-Fifth-Ave-New-York-NY-Class-A-Building-21-LargeHighDefinition.jpg\n",
      "['https://images1.loopnet.com/i2/BpWmL7GFTEHdSlwdAAK5CI3TMyNjpwDdr6f5zczZH6U/116/530-Fifth-Ave-New-York-NY-Convene-1-LargeHighDefinition.jpg', 'https://images1.loopnet.com/i2/SJJV02Wc_HobBFxZTCzf1GnC9GmFWY8bQypMOSUCMdE/116/530-Fifth-Ave-New-York-NY-Reception-2-LargeHighDefinition.jpg', 'https://images1.loopnet.com/i2/WrWF11Deb5cJocfoXp0wL-DuKBrLignKSY7lw7Wb7rQ/116/530-Fifth-Ave-New-York-NY-Modern-Interior-3-LargeHighDefinition.jpg', 'https://images1.loopnet.com/i2/f02gflfxwasVSmPOxUHfChvNh31jcHLc1kI7idRGKAE/116/530-Fifth-Ave-New-York-NY-Seating-Area-4-LargeHighDefinition.jpg', 'https://images1.loopnet.com/i2/9cGat9HyYCmTUZ4yLd7OasoWzweB6_1L6PTCShJi-S8/116/530-Fifth-Ave-New-York-NY-Conference-Room-5-LargeHighDefinition.jpg', 'https://images1.loopnet.com/i2/FPitXVr8EdxykXiHv7wspRYC8Mi9EUHKpCmqTnsatwY/116/530-Fifth-Ave-New-York-NY-Workstations-6-LargeHighDefinition.jpg', 'https://images1.loopnet.com/i2/2KAhTFSDml9g2V1CqtAYGOO_fsup6_tZs5sKjdF4ZM0/116/530-Fifth-Ave-New-York-NY-Conference-Room-7-LargeHighDefinition.jpg', 'https://images1.loopnet.com/i2/49BgLvrl7dUTH4xFH9em0gP3Ft-CayMVkhMFcthME0M/116/530-Fifth-Ave-New-York-NY-Open-Floor-Plan-8-LargeHighDefinition.jpg', 'https://images1.loopnet.com/i2/PJp7mQYL6K3U5GNnZWhH0imh-2iAX_uy-52TS3xqsjk/116/530-Fifth-Ave-New-York-NY-Fitness-Center-9-LargeHighDefinition.jpg', 'https://images1.loopnet.com/i2/8akcmKBB2OkRQo4wrfIVMtvhG3ypMGrInUeq6RDsDZo/116/530-Fifth-Ave-New-York-NY-Individual-Rooms-10-LargeHighDefinition.jpg', 'https://images1.loopnet.com/i2/ZfrA_rPzqxLmKHoUBd1RVVXlFhqzc_QvV_gpU6zEV0E/116/530-Fifth-Ave-New-York-NY-Open-Floor-Plan-11-LargeHighDefinition.jpg', 'https://images1.loopnet.com/i2/HXcTnwjj-tulf58bnu8oK46C0UvN-b0_a8-D6VjqqKc/116/530-Fifth-Ave-New-York-NY-Outdoor-Patio-12-LargeHighDefinition.jpg', 'https://images1.loopnet.com/i2/JgAHHQygzSTBJ2R3W449wpnI3j5d44CPPlhP5BSHyXw/116/530-Fifth-Ave-New-York-NY-Double-Height-Interior-13-LargeHighDefinition.jpg', 'https://images1.loopnet.com/i2/8Ugju5pwOIjSWVsPXNXw5cCQFvmoblYhbg339NcIATY/116/530-Fifth-Ave-New-York-NY-Open-Floor-Plan-14-LargeHighDefinition.jpg', 'https://images1.loopnet.com/i2/DNGRS4Fb0DSTZKPR6BTsVwb_Q6js_RzDnqOAqA21xMU/116/530-Fifth-Ave-New-York-NY-Various-Sitting-Options-15-LargeHighDefinition.jpg', 'https://images1.loopnet.com/i2/hLplgorTi29mi89QZmiUv1MmuB807n3XootgdTwMbKQ/116/530-Fifth-Ave-New-York-NY-Building-Lobby-16-LargeHighDefinition.jpg', 'https://images1.loopnet.com/i2/gQxrcFslNiOz7oe3_0rkRxUh4NjQd1jnPlGT_ItF2Dc/116/530-Fifth-Ave-New-York-NY-Sidewalk-View-17-LargeHighDefinition.jpg', 'https://images1.loopnet.com/i2/HjsNQ2dtHQ5dJTTLz9OGte709zrwzBvSSF2gczBaSf4/116/530-Fifth-Ave-New-York-NY-Building-Entrance-18-LargeHighDefinition.jpg', 'https://images1.loopnet.com/i2/2AVKOT0VURTHGVLPRddHyv4Ye7R-lADRfKQO_MrhUOk/116/530-Fifth-Ave-New-York-NY-Landmark-Property-19-LargeHighDefinition.jpg', 'https://images1.loopnet.com/i2/ux4Gg3w3QhwbV8VdD4uxHVcZTahTKQ90ERVUnMFezCA/116/530-Fifth-Ave-New-York-NY-Manhattan-Location-20-LargeHighDefinition.jpg', 'https://images1.loopnet.com/i2/54K5TXDSKxNW6DXxBKCi0i8tyfyVbYfVCzRvaRV62As/116/530-Fifth-Ave-New-York-NY-Class-A-Building-21-LargeHighDefinition.jpg']\n",
      "['https://images1.loopnet.com/i2/BpWmL7GFTEHdSlwdAAK5CI3TMyNjpwDdr6f5zczZH6U/116/530-Fifth-Ave-New-York-NY-Convene-1-LargeHighDefinition.jpg', 'https://images1.loopnet.com/i2/SJJV02Wc_HobBFxZTCzf1GnC9GmFWY8bQypMOSUCMdE/116/530-Fifth-Ave-New-York-NY-Reception-2-LargeHighDefinition.jpg', 'https://images1.loopnet.com/i2/WrWF11Deb5cJocfoXp0wL-DuKBrLignKSY7lw7Wb7rQ/116/530-Fifth-Ave-New-York-NY-Modern-Interior-3-LargeHighDefinition.jpg', 'https://images1.loopnet.com/i2/f02gflfxwasVSmPOxUHfChvNh31jcHLc1kI7idRGKAE/116/530-Fifth-Ave-New-York-NY-Seating-Area-4-LargeHighDefinition.jpg', 'https://images1.loopnet.com/i2/9cGat9HyYCmTUZ4yLd7OasoWzweB6_1L6PTCShJi-S8/116/530-Fifth-Ave-New-York-NY-Conference-Room-5-LargeHighDefinition.jpg', 'https://images1.loopnet.com/i2/FPitXVr8EdxykXiHv7wspRYC8Mi9EUHKpCmqTnsatwY/116/530-Fifth-Ave-New-York-NY-Workstations-6-LargeHighDefinition.jpg', 'https://images1.loopnet.com/i2/2KAhTFSDml9g2V1CqtAYGOO_fsup6_tZs5sKjdF4ZM0/116/530-Fifth-Ave-New-York-NY-Conference-Room-7-LargeHighDefinition.jpg', 'https://images1.loopnet.com/i2/49BgLvrl7dUTH4xFH9em0gP3Ft-CayMVkhMFcthME0M/116/530-Fifth-Ave-New-York-NY-Open-Floor-Plan-8-LargeHighDefinition.jpg', 'https://images1.loopnet.com/i2/PJp7mQYL6K3U5GNnZWhH0imh-2iAX_uy-52TS3xqsjk/116/530-Fifth-Ave-New-York-NY-Fitness-Center-9-LargeHighDefinition.jpg', 'https://images1.loopnet.com/i2/8akcmKBB2OkRQo4wrfIVMtvhG3ypMGrInUeq6RDsDZo/116/530-Fifth-Ave-New-York-NY-Individual-Rooms-10-LargeHighDefinition.jpg', 'https://images1.loopnet.com/i2/ZfrA_rPzqxLmKHoUBd1RVVXlFhqzc_QvV_gpU6zEV0E/116/530-Fifth-Ave-New-York-NY-Open-Floor-Plan-11-LargeHighDefinition.jpg', 'https://images1.loopnet.com/i2/HXcTnwjj-tulf58bnu8oK46C0UvN-b0_a8-D6VjqqKc/116/530-Fifth-Ave-New-York-NY-Outdoor-Patio-12-LargeHighDefinition.jpg', 'https://images1.loopnet.com/i2/JgAHHQygzSTBJ2R3W449wpnI3j5d44CPPlhP5BSHyXw/116/530-Fifth-Ave-New-York-NY-Double-Height-Interior-13-LargeHighDefinition.jpg', 'https://images1.loopnet.com/i2/8Ugju5pwOIjSWVsPXNXw5cCQFvmoblYhbg339NcIATY/116/530-Fifth-Ave-New-York-NY-Open-Floor-Plan-14-LargeHighDefinition.jpg', 'https://images1.loopnet.com/i2/DNGRS4Fb0DSTZKPR6BTsVwb_Q6js_RzDnqOAqA21xMU/116/530-Fifth-Ave-New-York-NY-Various-Sitting-Options-15-LargeHighDefinition.jpg', 'https://images1.loopnet.com/i2/hLplgorTi29mi89QZmiUv1MmuB807n3XootgdTwMbKQ/116/530-Fifth-Ave-New-York-NY-Building-Lobby-16-LargeHighDefinition.jpg', 'https://images1.loopnet.com/i2/gQxrcFslNiOz7oe3_0rkRxUh4NjQd1jnPlGT_ItF2Dc/116/530-Fifth-Ave-New-York-NY-Sidewalk-View-17-LargeHighDefinition.jpg', 'https://images1.loopnet.com/i2/HjsNQ2dtHQ5dJTTLz9OGte709zrwzBvSSF2gczBaSf4/116/530-Fifth-Ave-New-York-NY-Building-Entrance-18-LargeHighDefinition.jpg', 'https://images1.loopnet.com/i2/2AVKOT0VURTHGVLPRddHyv4Ye7R-lADRfKQO_MrhUOk/116/530-Fifth-Ave-New-York-NY-Landmark-Property-19-LargeHighDefinition.jpg', 'https://images1.loopnet.com/i2/ux4Gg3w3QhwbV8VdD4uxHVcZTahTKQ90ERVUnMFezCA/116/530-Fifth-Ave-New-York-NY-Manhattan-Location-20-LargeHighDefinition.jpg', 'https://images1.loopnet.com/i2/54K5TXDSKxNW6DXxBKCi0i8tyfyVbYfVCzRvaRV62As/116/530-Fifth-Ave-New-York-NY-Class-A-Building-21-LargeHighDefinition.jpg']\n",
      "['https://images1.loopnet.com/i2/BpWmL7GFTEHdSlwdAAK5CI3TMyNjpwDdr6f5zczZH6U/116/530-Fifth-Ave-New-York-NY-Convene-1-LargeHighDefinition.jpg', 'https://images1.loopnet.com/i2/SJJV02Wc_HobBFxZTCzf1GnC9GmFWY8bQypMOSUCMdE/116/530-Fifth-Ave-New-York-NY-Reception-2-LargeHighDefinition.jpg', 'https://images1.loopnet.com/i2/WrWF11Deb5cJocfoXp0wL-DuKBrLignKSY7lw7Wb7rQ/116/530-Fifth-Ave-New-York-NY-Modern-Interior-3-LargeHighDefinition.jpg', 'https://images1.loopnet.com/i2/f02gflfxwasVSmPOxUHfChvNh31jcHLc1kI7idRGKAE/116/530-Fifth-Ave-New-York-NY-Seating-Area-4-LargeHighDefinition.jpg', 'https://images1.loopnet.com/i2/9cGat9HyYCmTUZ4yLd7OasoWzweB6_1L6PTCShJi-S8/116/530-Fifth-Ave-New-York-NY-Conference-Room-5-LargeHighDefinition.jpg', 'https://images1.loopnet.com/i2/FPitXVr8EdxykXiHv7wspRYC8Mi9EUHKpCmqTnsatwY/116/530-Fifth-Ave-New-York-NY-Workstations-6-LargeHighDefinition.jpg', 'https://images1.loopnet.com/i2/2KAhTFSDml9g2V1CqtAYGOO_fsup6_tZs5sKjdF4ZM0/116/530-Fifth-Ave-New-York-NY-Conference-Room-7-LargeHighDefinition.jpg', 'https://images1.loopnet.com/i2/49BgLvrl7dUTH4xFH9em0gP3Ft-CayMVkhMFcthME0M/116/530-Fifth-Ave-New-York-NY-Open-Floor-Plan-8-LargeHighDefinition.jpg', 'https://images1.loopnet.com/i2/PJp7mQYL6K3U5GNnZWhH0imh-2iAX_uy-52TS3xqsjk/116/530-Fifth-Ave-New-York-NY-Fitness-Center-9-LargeHighDefinition.jpg', 'https://images1.loopnet.com/i2/8akcmKBB2OkRQo4wrfIVMtvhG3ypMGrInUeq6RDsDZo/116/530-Fifth-Ave-New-York-NY-Individual-Rooms-10-LargeHighDefinition.jpg', 'https://images1.loopnet.com/i2/ZfrA_rPzqxLmKHoUBd1RVVXlFhqzc_QvV_gpU6zEV0E/116/530-Fifth-Ave-New-York-NY-Open-Floor-Plan-11-LargeHighDefinition.jpg', 'https://images1.loopnet.com/i2/HXcTnwjj-tulf58bnu8oK46C0UvN-b0_a8-D6VjqqKc/116/530-Fifth-Ave-New-York-NY-Outdoor-Patio-12-LargeHighDefinition.jpg', 'https://images1.loopnet.com/i2/JgAHHQygzSTBJ2R3W449wpnI3j5d44CPPlhP5BSHyXw/116/530-Fifth-Ave-New-York-NY-Double-Height-Interior-13-LargeHighDefinition.jpg', 'https://images1.loopnet.com/i2/8Ugju5pwOIjSWVsPXNXw5cCQFvmoblYhbg339NcIATY/116/530-Fifth-Ave-New-York-NY-Open-Floor-Plan-14-LargeHighDefinition.jpg', 'https://images1.loopnet.com/i2/DNGRS4Fb0DSTZKPR6BTsVwb_Q6js_RzDnqOAqA21xMU/116/530-Fifth-Ave-New-York-NY-Various-Sitting-Options-15-LargeHighDefinition.jpg', 'https://images1.loopnet.com/i2/hLplgorTi29mi89QZmiUv1MmuB807n3XootgdTwMbKQ/116/530-Fifth-Ave-New-York-NY-Building-Lobby-16-LargeHighDefinition.jpg', 'https://images1.loopnet.com/i2/gQxrcFslNiOz7oe3_0rkRxUh4NjQd1jnPlGT_ItF2Dc/116/530-Fifth-Ave-New-York-NY-Sidewalk-View-17-LargeHighDefinition.jpg', 'https://images1.loopnet.com/i2/HjsNQ2dtHQ5dJTTLz9OGte709zrwzBvSSF2gczBaSf4/116/530-Fifth-Ave-New-York-NY-Building-Entrance-18-LargeHighDefinition.jpg', 'https://images1.loopnet.com/i2/2AVKOT0VURTHGVLPRddHyv4Ye7R-lADRfKQO_MrhUOk/116/530-Fifth-Ave-New-York-NY-Landmark-Property-19-LargeHighDefinition.jpg', 'https://images1.loopnet.com/i2/ux4Gg3w3QhwbV8VdD4uxHVcZTahTKQ90ERVUnMFezCA/116/530-Fifth-Ave-New-York-NY-Manhattan-Location-20-LargeHighDefinition.jpg', 'https://images1.loopnet.com/i2/54K5TXDSKxNW6DXxBKCi0i8tyfyVbYfVCzRvaRV62As/116/530-Fifth-Ave-New-York-NY-Class-A-Building-21-LargeHighDefinition.jpg']\n"
     ]
    },
    {
     "name": "stderr",
     "output_type": "stream",
     "text": [
      "  2%|▌                                        | 8/528 [01:09<1:19:33,  9.18s/it]"
     ]
    },
    {
     "name": "stdout",
     "output_type": "stream",
     "text": [
      "https://images1.loopnet.com/i2/XGdM6xobkJ5hakW1lzr1cOxPVgXTbHnEeFOl8Rjc_Vc/116/218-232-W-40th-St-New-York-NY-Primary-Photo-1-LargeHighDefinition.jpg\n",
      "['https://images1.loopnet.com/i2/XGdM6xobkJ5hakW1lzr1cOxPVgXTbHnEeFOl8Rjc_Vc/116/218-232-W-40th-St-New-York-NY-Primary-Photo-1-LargeHighDefinition.jpg']\n",
      "https://images1.loopnet.com/i2/12un8Qb_UTJge_Q6SsQcNtmrpJGDyhldA7ytHgCHnOA/116/218-232-W-40th-St-New-York-NY-View-on-W-40th-Street-2-LargeHighDefinition.jpg\n",
      "https://images1.loopnet.com/i2/7yDPKPHVodBVfrNMfM6hwNVj8b-IPsMlGiDYCoHL8XQ/116/218-232-W-40th-St-New-York-NY-Building-Entrance-3-LargeHighDefinition.jpg\n",
      "https://images1.loopnet.com/i2/VJBHQ8cKMh8DKEzYykpoXxLvGwBwg2pJ-AI92ba9QUE/116/218-232-W-40th-St-New-York-NY-Building-Entrance-4-LargeHighDefinition.jpg\n",
      "https://images1.loopnet.com/i2/gTalGrxbAUQhlb1ICGZKeldri3IBq87cMmgIod39koI/116/218-232-W-40th-St-New-York-NY-Sidewalk-View-5-LargeHighDefinition.jpg\n",
      "https://images1.loopnet.com/i2/yc04Rm1PwxX1ZLHsn0aDS5KsyUZTf_EZazimLZTuUYU/116/218-232-W-40th-St-New-York-NY-Retail-Entrance-6-LargeHighDefinition.jpg\n",
      "https://images1.loopnet.com/i2/YccNDyaJh5BEnSpddpFQk1silXCgzO23ykxUJ1QEJ-8/116/218-232-W-40th-St-New-York-NY-Attended-Lobby-7-LargeHighDefinition.jpg\n",
      "https://images1.loopnet.com/i2/U-rl2FIvaO7oddOYTYcXfLRXc2A0N9nQdEkvzfXRv1A/116/218-232-W-40th-St-New-York-NY-Lobby-Elevators-8-LargeHighDefinition.jpg\n",
      "['https://images1.loopnet.com/i2/XGdM6xobkJ5hakW1lzr1cOxPVgXTbHnEeFOl8Rjc_Vc/116/218-232-W-40th-St-New-York-NY-Primary-Photo-1-LargeHighDefinition.jpg', 'https://images1.loopnet.com/i2/12un8Qb_UTJge_Q6SsQcNtmrpJGDyhldA7ytHgCHnOA/116/218-232-W-40th-St-New-York-NY-View-on-W-40th-Street-2-LargeHighDefinition.jpg', 'https://images1.loopnet.com/i2/7yDPKPHVodBVfrNMfM6hwNVj8b-IPsMlGiDYCoHL8XQ/116/218-232-W-40th-St-New-York-NY-Building-Entrance-3-LargeHighDefinition.jpg', 'https://images1.loopnet.com/i2/VJBHQ8cKMh8DKEzYykpoXxLvGwBwg2pJ-AI92ba9QUE/116/218-232-W-40th-St-New-York-NY-Building-Entrance-4-LargeHighDefinition.jpg', 'https://images1.loopnet.com/i2/gTalGrxbAUQhlb1ICGZKeldri3IBq87cMmgIod39koI/116/218-232-W-40th-St-New-York-NY-Sidewalk-View-5-LargeHighDefinition.jpg', 'https://images1.loopnet.com/i2/yc04Rm1PwxX1ZLHsn0aDS5KsyUZTf_EZazimLZTuUYU/116/218-232-W-40th-St-New-York-NY-Retail-Entrance-6-LargeHighDefinition.jpg', 'https://images1.loopnet.com/i2/YccNDyaJh5BEnSpddpFQk1silXCgzO23ykxUJ1QEJ-8/116/218-232-W-40th-St-New-York-NY-Attended-Lobby-7-LargeHighDefinition.jpg', 'https://images1.loopnet.com/i2/U-rl2FIvaO7oddOYTYcXfLRXc2A0N9nQdEkvzfXRv1A/116/218-232-W-40th-St-New-York-NY-Lobby-Elevators-8-LargeHighDefinition.jpg']\n",
      "['https://images1.loopnet.com/i2/XGdM6xobkJ5hakW1lzr1cOxPVgXTbHnEeFOl8Rjc_Vc/116/218-232-W-40th-St-New-York-NY-Primary-Photo-1-LargeHighDefinition.jpg', 'https://images1.loopnet.com/i2/12un8Qb_UTJge_Q6SsQcNtmrpJGDyhldA7ytHgCHnOA/116/218-232-W-40th-St-New-York-NY-View-on-W-40th-Street-2-LargeHighDefinition.jpg', 'https://images1.loopnet.com/i2/7yDPKPHVodBVfrNMfM6hwNVj8b-IPsMlGiDYCoHL8XQ/116/218-232-W-40th-St-New-York-NY-Building-Entrance-3-LargeHighDefinition.jpg', 'https://images1.loopnet.com/i2/VJBHQ8cKMh8DKEzYykpoXxLvGwBwg2pJ-AI92ba9QUE/116/218-232-W-40th-St-New-York-NY-Building-Entrance-4-LargeHighDefinition.jpg', 'https://images1.loopnet.com/i2/gTalGrxbAUQhlb1ICGZKeldri3IBq87cMmgIod39koI/116/218-232-W-40th-St-New-York-NY-Sidewalk-View-5-LargeHighDefinition.jpg', 'https://images1.loopnet.com/i2/yc04Rm1PwxX1ZLHsn0aDS5KsyUZTf_EZazimLZTuUYU/116/218-232-W-40th-St-New-York-NY-Retail-Entrance-6-LargeHighDefinition.jpg', 'https://images1.loopnet.com/i2/YccNDyaJh5BEnSpddpFQk1silXCgzO23ykxUJ1QEJ-8/116/218-232-W-40th-St-New-York-NY-Attended-Lobby-7-LargeHighDefinition.jpg', 'https://images1.loopnet.com/i2/U-rl2FIvaO7oddOYTYcXfLRXc2A0N9nQdEkvzfXRv1A/116/218-232-W-40th-St-New-York-NY-Lobby-Elevators-8-LargeHighDefinition.jpg']\n"
     ]
    },
    {
     "name": "stderr",
     "output_type": "stream",
     "text": [
      "  2%|▋                                        | 9/528 [01:18<1:15:27,  8.72s/it]"
     ]
    },
    {
     "name": "stdout",
     "output_type": "stream",
     "text": [
      "['https://images1.loopnet.com/i2/XGdM6xobkJ5hakW1lzr1cOxPVgXTbHnEeFOl8Rjc_Vc/116/218-232-W-40th-St-New-York-NY-Primary-Photo-1-LargeHighDefinition.jpg', 'https://images1.loopnet.com/i2/12un8Qb_UTJge_Q6SsQcNtmrpJGDyhldA7ytHgCHnOA/116/218-232-W-40th-St-New-York-NY-View-on-W-40th-Street-2-LargeHighDefinition.jpg', 'https://images1.loopnet.com/i2/7yDPKPHVodBVfrNMfM6hwNVj8b-IPsMlGiDYCoHL8XQ/116/218-232-W-40th-St-New-York-NY-Building-Entrance-3-LargeHighDefinition.jpg', 'https://images1.loopnet.com/i2/VJBHQ8cKMh8DKEzYykpoXxLvGwBwg2pJ-AI92ba9QUE/116/218-232-W-40th-St-New-York-NY-Building-Entrance-4-LargeHighDefinition.jpg', 'https://images1.loopnet.com/i2/gTalGrxbAUQhlb1ICGZKeldri3IBq87cMmgIod39koI/116/218-232-W-40th-St-New-York-NY-Sidewalk-View-5-LargeHighDefinition.jpg', 'https://images1.loopnet.com/i2/yc04Rm1PwxX1ZLHsn0aDS5KsyUZTf_EZazimLZTuUYU/116/218-232-W-40th-St-New-York-NY-Retail-Entrance-6-LargeHighDefinition.jpg', 'https://images1.loopnet.com/i2/YccNDyaJh5BEnSpddpFQk1silXCgzO23ykxUJ1QEJ-8/116/218-232-W-40th-St-New-York-NY-Attended-Lobby-7-LargeHighDefinition.jpg', 'https://images1.loopnet.com/i2/U-rl2FIvaO7oddOYTYcXfLRXc2A0N9nQdEkvzfXRv1A/116/218-232-W-40th-St-New-York-NY-Lobby-Elevators-8-LargeHighDefinition.jpg']\n"
     ]
    },
    {
     "name": "stderr",
     "output_type": "stream",
     "text": [
      "\n"
     ]
    }
   ],
   "source": [
    "if __name__ == '__main__':\n",
    "    loop_over()"
   ]
  },
  {
   "cell_type": "code",
   "execution_count": null,
   "id": "3616e7cc-701b-4fba-8c55-2ed900a30e32",
   "metadata": {},
   "outputs": [],
   "source": []
  }
 ],
 "metadata": {
  "kernelspec": {
   "display_name": "Python 3 (ipykernel)",
   "language": "python",
   "name": "python3"
  },
  "language_info": {
   "codemirror_mode": {
    "name": "ipython",
    "version": 3
   },
   "file_extension": ".py",
   "mimetype": "text/x-python",
   "name": "python",
   "nbconvert_exporter": "python",
   "pygments_lexer": "ipython3",
   "version": "3.8.10"
  }
 },
 "nbformat": 4,
 "nbformat_minor": 5
}
