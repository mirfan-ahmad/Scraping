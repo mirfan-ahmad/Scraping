{
 "cells": [
  {
   "cell_type": "code",
   "execution_count": null,
   "id": "70ec857b",
   "metadata": {},
   "outputs": [],
   "source": [
    "from selenium.webdriver import Firefox\n",
    "from selenium.webdriver.common.by import By\n",
    "from selenium.common.exceptions import NoSuchElementException, ElementClickInterceptedException, ElementNotInteractableException\n",
    "from time import sleep\n",
    "import os"
   ]
  },
  {
   "cell_type": "code",
   "execution_count": null,
   "id": "af81cc70",
   "metadata": {},
   "outputs": [],
   "source": [
    "driver = Firefox()\n",
    "driver.maximize_window()"
   ]
  },
  {
   "cell_type": "code",
   "execution_count": null,
   "id": "2620ea69",
   "metadata": {},
   "outputs": [],
   "source": [
    "def scrape_data(url):\n",
    "    i = 1\n",
    "    driver.get(url)\n",
    "    while True:\n",
    "        try:\n",
    "            sleep(2)\n",
    "            li = driver.find_element(By.CSS_SELECTOR, f'#resultsColumn > div > ul > li:nth-child({i})')\n",
    "            sleep(2)\n",
    "            li.click()\n",
    "            i += 1\n",
    "            sleep(3)\n",
    "            \n",
    "            driver.switch_to.window(driver.window_handles[-1])\n",
    "            \n",
    "            sleep(1)\n",
    "            pic_frame = driver.find_element(By.CSS_SELECTOR, 'div.deFsUk > div:nth-child(1)')\n",
    "            sleep(1)\n",
    "            pic_frame.click()\n",
    "            j = 1\n",
    "\n",
    "            while True:\n",
    "                try:\n",
    "                    sleep(2)\n",
    "                    source = driver.find_element(By.CSS_SELECTOR, f'div.jAAByE > div:nth-child({j}) > div > div > picture > source:nth-child(2)')\n",
    "                    link = source.get_attribute('srcset')\n",
    "                    sleep(1)\n",
    "                    driver.get(link)\n",
    "                    j += 1\n",
    "\n",
    "                    driver.get_screenshot_as_file(f'Trulia/{link[-20:-6]}.png')\n",
    "                    driver.back()\n",
    "                except:\n",
    "                    break\n",
    "            \n",
    "            driver.close()\n",
    "            driver.switch_to.window(driver.window_handles[0])\n",
    "        \n",
    "        except NoSuchElementException:\n",
    "            driver.close()\n",
    "            driver.switch_to.window(driver.window_handles[0])\n",
    "        \n",
    "        except:\n",
    "            break"
   ]
  },
  {
   "cell_type": "code",
   "execution_count": null,
   "id": "641ed205",
   "metadata": {},
   "outputs": [],
   "source": [
    "scrape_data('https://www.trulia.com/GA/Atlanta/')"
   ]
  },
  {
   "cell_type": "code",
   "execution_count": null,
   "id": "e01614f1",
   "metadata": {},
   "outputs": [],
   "source": []
  }
 ],
 "metadata": {
  "kernelspec": {
   "display_name": "Python 3 (ipykernel)",
   "language": "python",
   "name": "python3"
  },
  "language_info": {
   "codemirror_mode": {
    "name": "ipython",
    "version": 3
   },
   "file_extension": ".py",
   "mimetype": "text/x-python",
   "name": "python",
   "nbconvert_exporter": "python",
   "pygments_lexer": "ipython3",
   "version": "3.10.6"
  }
 },
 "nbformat": 4,
 "nbformat_minor": 5
}
